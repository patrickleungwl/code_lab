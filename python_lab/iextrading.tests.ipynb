{
 "cells": [
  {
   "cell_type": "markdown",
   "metadata": {},
   "source": [
    "## Test iex trading api for company's financials"
   ]
  },
  {
   "cell_type": "code",
   "execution_count": 50,
   "metadata": {},
   "outputs": [
    {
     "data": {
      "text/plain": [
       "'{\"symbol\":\"AAPL\",\"financials\":[{\"reportDate\":\"2018-09-30\",\"grossProfit\":24084000000,\"costOfRevenue\":38816000000,\"operatingRevenue\":62900000000,\"totalRevenue\":62900000000,\"operatingIncome\":16118000000,\"netIncome\":14125000000,\"researchAndDevelopment\":3750000000,\"operatingExpense\":7966000000,\"currentAssets\":131339000000,\"totalAssets\":365725000000,\"totalLiabilities\":null,\"currentCash\":25913000000,\"currentDebt\":20748000000,\"totalCash\":66301000000,\"totalDebt\":114483000000,\"shareholderEquity\":107147000000,\"cashChange\":-6058000000,\"cashFlow\":19523000000,\"operatingGainsLosses\":null},{\"reportDate\":\"2018-06-30\",\"grossProfit\":20421000000,\"costOfRevenue\":32844000000,\"operatingRevenue\":53265000000,\"totalRevenue\":53265000000,\"operatingIncome\":12612000000,\"netIncome\":11519000000,\"researchAndDevelopment\":3701000000,\"operatingExpense\":7809000000,\"currentAssets\":115761000000,\"totalAssets\":349197000000,\"totalLiabilities\":null,\"currentCash\":31971000000,\"currentDebt\":17472000000,\"totalCash\":70970000000,\"totalDebt\":114600000000,\"shareholderEquity\":114949000000,\"cashChange\":-13088000000,\"cashFlow\":14488000000,\"operatingGainsLosses\":null},{\"reportDate\":\"2018-03-31\",\"grossProfit\":23422000000,\"costOfRevenue\":37715000000,\"operatingRevenue\":61137000000,\"totalRevenue\":61137000000,\"operatingIncome\":15894000000,\"netIncome\":13822000000,\"researchAndDevelopment\":3378000000,\"operatingExpense\":7528000000,\"currentAssets\":130053000000,\"totalAssets\":367502000000,\"totalLiabilities\":null,\"currentCash\":45059000000,\"currentDebt\":20478000000,\"totalCash\":87940000000,\"totalDebt\":121840000000,\"shareholderEquity\":126878000000,\"cashChange\":17568000000,\"cashFlow\":15130000000,\"operatingGainsLosses\":null},{\"reportDate\":\"2017-12-31\",\"grossProfit\":33912000000,\"costOfRevenue\":54381000000,\"operatingRevenue\":88293000000,\"totalRevenue\":88293000000,\"operatingIncome\":26274000000,\"netIncome\":20065000000,\"researchAndDevelopment\":3407000000,\"operatingExpense\":7638000000,\"currentAssets\":143810000000,\"totalAssets\":406794000000,\"totalLiabilities\":null,\"currentCash\":27491000000,\"currentDebt\":18478000000,\"totalCash\":77153000000,\"totalDebt\":122400000000,\"shareholderEquity\":140199000000,\"cashChange\":7202000000,\"cashFlow\":28293000000,\"operatingGainsLosses\":null}]}'"
      ]
     },
     "execution_count": 50,
     "metadata": {},
     "output_type": "execute_result"
    }
   ],
   "source": [
    "import requests\n",
    "import pandas\n",
    "\n",
    "ticker = 'AAPL'\n",
    "url = f'https://api.iextrading.com/1.0/stock/{ticker}/financials'\n",
    "url\n",
    "r = requests.get(url)\n",
    "r.text\n"
   ]
  },
  {
   "cell_type": "code",
   "execution_count": 51,
   "metadata": {},
   "outputs": [
    {
     "data": {
      "text/html": [
       "<div>\n",
       "<style scoped>\n",
       "    .dataframe tbody tr th:only-of-type {\n",
       "        vertical-align: middle;\n",
       "    }\n",
       "\n",
       "    .dataframe tbody tr th {\n",
       "        vertical-align: top;\n",
       "    }\n",
       "\n",
       "    .dataframe thead th {\n",
       "        text-align: right;\n",
       "    }\n",
       "</style>\n",
       "<table border=\"1\" class=\"dataframe\">\n",
       "  <thead>\n",
       "    <tr style=\"text-align: right;\">\n",
       "      <th></th>\n",
       "      <th>symbol</th>\n",
       "      <th>financials</th>\n",
       "    </tr>\n",
       "  </thead>\n",
       "  <tbody>\n",
       "    <tr>\n",
       "      <th>0</th>\n",
       "      <td>AAPL</td>\n",
       "      <td>{'reportDate': '2018-09-30', 'grossProfit': 24...</td>\n",
       "    </tr>\n",
       "    <tr>\n",
       "      <th>1</th>\n",
       "      <td>AAPL</td>\n",
       "      <td>{'reportDate': '2018-06-30', 'grossProfit': 20...</td>\n",
       "    </tr>\n",
       "    <tr>\n",
       "      <th>2</th>\n",
       "      <td>AAPL</td>\n",
       "      <td>{'reportDate': '2018-03-31', 'grossProfit': 23...</td>\n",
       "    </tr>\n",
       "    <tr>\n",
       "      <th>3</th>\n",
       "      <td>AAPL</td>\n",
       "      <td>{'reportDate': '2017-12-31', 'grossProfit': 33...</td>\n",
       "    </tr>\n",
       "  </tbody>\n",
       "</table>\n",
       "</div>"
      ],
      "text/plain": [
       "  symbol                                         financials\n",
       "0   AAPL  {'reportDate': '2018-09-30', 'grossProfit': 24...\n",
       "1   AAPL  {'reportDate': '2018-06-30', 'grossProfit': 20...\n",
       "2   AAPL  {'reportDate': '2018-03-31', 'grossProfit': 23...\n",
       "3   AAPL  {'reportDate': '2017-12-31', 'grossProfit': 33..."
      ]
     },
     "execution_count": 51,
     "metadata": {},
     "output_type": "execute_result"
    }
   ],
   "source": [
    "df = pandas.read_json(r.text)  \n",
    "df"
   ]
  },
  {
   "cell_type": "code",
   "execution_count": 52,
   "metadata": {},
   "outputs": [
    {
     "data": {
      "text/plain": [
       "4"
      ]
     },
     "execution_count": 52,
     "metadata": {},
     "output_type": "execute_result"
    }
   ],
   "source": [
    "len(df)"
   ]
  },
  {
   "cell_type": "code",
   "execution_count": 53,
   "metadata": {},
   "outputs": [
    {
     "name": "stdout",
     "output_type": "stream",
     "text": [
      "0: {'reportDate': '2018-09-30', 'grossProfit': 24084000000, 'costOfRevenue': 38816000000, 'operatingRevenue': 62900000000, 'totalRevenue': 62900000000, 'operatingIncome': 16118000000, 'netIncome': 14125000000, 'researchAndDevelopment': 3750000000, 'operatingExpense': 7966000000, 'currentAssets': 131339000000, 'totalAssets': 365725000000, 'totalLiabilities': None, 'currentCash': 25913000000, 'currentDebt': 20748000000, 'totalCash': 66301000000, 'totalDebt': 114483000000, 'shareholderEquity': 107147000000, 'cashChange': -6058000000, 'cashFlow': 19523000000, 'operatingGainsLosses': None}\n",
      "\n",
      "1: {'reportDate': '2018-06-30', 'grossProfit': 20421000000, 'costOfRevenue': 32844000000, 'operatingRevenue': 53265000000, 'totalRevenue': 53265000000, 'operatingIncome': 12612000000, 'netIncome': 11519000000, 'researchAndDevelopment': 3701000000, 'operatingExpense': 7809000000, 'currentAssets': 115761000000, 'totalAssets': 349197000000, 'totalLiabilities': None, 'currentCash': 31971000000, 'currentDebt': 17472000000, 'totalCash': 70970000000, 'totalDebt': 114600000000, 'shareholderEquity': 114949000000, 'cashChange': -13088000000, 'cashFlow': 14488000000, 'operatingGainsLosses': None}\n",
      "\n",
      "2: {'reportDate': '2018-03-31', 'grossProfit': 23422000000, 'costOfRevenue': 37715000000, 'operatingRevenue': 61137000000, 'totalRevenue': 61137000000, 'operatingIncome': 15894000000, 'netIncome': 13822000000, 'researchAndDevelopment': 3378000000, 'operatingExpense': 7528000000, 'currentAssets': 130053000000, 'totalAssets': 367502000000, 'totalLiabilities': None, 'currentCash': 45059000000, 'currentDebt': 20478000000, 'totalCash': 87940000000, 'totalDebt': 121840000000, 'shareholderEquity': 126878000000, 'cashChange': 17568000000, 'cashFlow': 15130000000, 'operatingGainsLosses': None}\n",
      "\n",
      "3: {'reportDate': '2017-12-31', 'grossProfit': 33912000000, 'costOfRevenue': 54381000000, 'operatingRevenue': 88293000000, 'totalRevenue': 88293000000, 'operatingIncome': 26274000000, 'netIncome': 20065000000, 'researchAndDevelopment': 3407000000, 'operatingExpense': 7638000000, 'currentAssets': 143810000000, 'totalAssets': 406794000000, 'totalLiabilities': None, 'currentCash': 27491000000, 'currentDebt': 18478000000, 'totalCash': 77153000000, 'totalDebt': 122400000000, 'shareholderEquity': 140199000000, 'cashChange': 7202000000, 'cashFlow': 28293000000, 'operatingGainsLosses': None}\n",
      "\n"
     ]
    }
   ],
   "source": [
    "for index, row in df.iterrows():\n",
    "    print(f\"{index}: {row['financials']}\\n\")\n"
   ]
  },
  {
   "cell_type": "markdown",
   "metadata": {},
   "source": [
    "Let's try the annualized earnings.  Quarterly earnings fluctuate too much. "
   ]
  },
  {
   "cell_type": "code",
   "execution_count": 54,
   "metadata": {},
   "outputs": [
    {
     "data": {
      "text/html": [
       "<div>\n",
       "<style scoped>\n",
       "    .dataframe tbody tr th:only-of-type {\n",
       "        vertical-align: middle;\n",
       "    }\n",
       "\n",
       "    .dataframe tbody tr th {\n",
       "        vertical-align: top;\n",
       "    }\n",
       "\n",
       "    .dataframe thead th {\n",
       "        text-align: right;\n",
       "    }\n",
       "</style>\n",
       "<table border=\"1\" class=\"dataframe\">\n",
       "  <thead>\n",
       "    <tr style=\"text-align: right;\">\n",
       "      <th></th>\n",
       "      <th>symbol</th>\n",
       "      <th>financials</th>\n",
       "    </tr>\n",
       "  </thead>\n",
       "  <tbody>\n",
       "    <tr>\n",
       "      <th>0</th>\n",
       "      <td>AAPL</td>\n",
       "      <td>{'reportDate': '2018-09-30', 'grossProfit': 10...</td>\n",
       "    </tr>\n",
       "    <tr>\n",
       "      <th>1</th>\n",
       "      <td>AAPL</td>\n",
       "      <td>{'reportDate': '2017-09-30', 'grossProfit': 88...</td>\n",
       "    </tr>\n",
       "    <tr>\n",
       "      <th>2</th>\n",
       "      <td>AAPL</td>\n",
       "      <td>{'reportDate': '2016-09-30', 'grossProfit': 84...</td>\n",
       "    </tr>\n",
       "    <tr>\n",
       "      <th>3</th>\n",
       "      <td>AAPL</td>\n",
       "      <td>{'reportDate': '2015-09-30', 'grossProfit': 93...</td>\n",
       "    </tr>\n",
       "  </tbody>\n",
       "</table>\n",
       "</div>"
      ],
      "text/plain": [
       "  symbol                                         financials\n",
       "0   AAPL  {'reportDate': '2018-09-30', 'grossProfit': 10...\n",
       "1   AAPL  {'reportDate': '2017-09-30', 'grossProfit': 88...\n",
       "2   AAPL  {'reportDate': '2016-09-30', 'grossProfit': 84...\n",
       "3   AAPL  {'reportDate': '2015-09-30', 'grossProfit': 93..."
      ]
     },
     "execution_count": 54,
     "metadata": {},
     "output_type": "execute_result"
    }
   ],
   "source": [
    "url = f'https://api.iextrading.com/1.0/stock/{ticker}/financials?period=annual'\n",
    "url\n",
    "r = requests.get(url)\n",
    "df = pandas.read_json(r.text)  \n",
    "df"
   ]
  },
  {
   "cell_type": "code",
   "execution_count": 55,
   "metadata": {},
   "outputs": [
    {
     "name": "stdout",
     "output_type": "stream",
     "text": [
      "{'2018-09-30': 59531000000, '2017-09-30': 48351000000, '2016-09-30': 45687000000, '2015-09-30': 53394000000}\n"
     ]
    }
   ],
   "source": [
    "netincomes = {}\n",
    "for index, row in df.iterrows():\n",
    "    r = row['financials']\n",
    "    report_date = r['reportDate']\n",
    "    income = r['netIncome']\n",
    "    netincomes[report_date] = income\n",
    "print(netincomes)"
   ]
  },
  {
   "cell_type": "markdown",
   "metadata": {},
   "source": [
    "## Earnings request"
   ]
  },
  {
   "cell_type": "code",
   "execution_count": 59,
   "metadata": {
    "scrolled": true
   },
   "outputs": [
    {
     "name": "stdout",
     "output_type": "stream",
     "text": [
      "https://api.iextrading.com/1.0/stock/AAPL/earnings\n",
      "{\"symbol\":\"AAPL\",\"earnings\":[{\"actualEPS\":2.91,\"consensusEPS\":2.79,\"estimatedEPS\":2.79,\"announceTime\":\"AMC\",\"numberOfEstimates\":12,\"EPSSurpriseDollar\":0.12,\"EPSReportDate\":\"2018-11-01\",\"fiscalPeriod\":\"Q4 2018\",\"fiscalEndDate\":\"2018-09-30\",\"yearAgo\":2.07,\"yearAgoChangePercent\":0.40579710144927555,\"estimatedChangePercent\":0.34782608695652184,\"symbolId\":11},{\"actualEPS\":2.34,\"consensusEPS\":2.17,\"estimatedEPS\":2.17,\"announceTime\":\"AMC\",\"numberOfEstimates\":10,\"EPSSurpriseDollar\":0.17,\"EPSReportDate\":\"2018-07-31\",\"fiscalPeriod\":\"Q3 2018\",\"fiscalEndDate\":\"2018-06-30\",\"yearAgo\":1.67,\"yearAgoChangePercent\":0.40119760479041916,\"estimatedChangePercent\":0.29940119760479045,\"symbolId\":11},{\"actualEPS\":2.73,\"consensusEPS\":2.69,\"estimatedEPS\":2.69,\"announceTime\":\"AMC\",\"numberOfEstimates\":10,\"EPSSurpriseDollar\":0.04,\"EPSReportDate\":\"2018-05-01\",\"fiscalPeriod\":\"Q2 2018\",\"fiscalEndDate\":\"2018-03-31\",\"yearAgo\":2.1,\"yearAgoChangePercent\":0.29999999999999993,\"estimatedChangePercent\":0.2809523809523809,\"symbolId\":11},{\"actualEPS\":3.89,\"consensusEPS\":3.82,\"estimatedEPS\":3.82,\"announceTime\":\"AMC\",\"numberOfEstimates\":9,\"EPSSurpriseDollar\":0.07,\"EPSReportDate\":\"2018-02-01\",\"fiscalPeriod\":\"Q1 2018\",\"fiscalEndDate\":\"2017-12-31\",\"yearAgo\":3.36,\"yearAgoChangePercent\":0.15773809523809532,\"estimatedChangePercent\":0.1369047619047619,\"symbolId\":11}]}\n"
     ]
    }
   ],
   "source": [
    "ticker = 'AAPL'\n",
    "url = f'https://api.iextrading.com/1.0/stock/{ticker}/earnings'\n",
    "print(url)\n",
    "r = requests.get(url)\n",
    "print(r.text)"
   ]
  },
  {
   "cell_type": "code",
   "execution_count": 57,
   "metadata": {},
   "outputs": [
    {
     "data": {
      "text/html": [
       "<div>\n",
       "<style scoped>\n",
       "    .dataframe tbody tr th:only-of-type {\n",
       "        vertical-align: middle;\n",
       "    }\n",
       "\n",
       "    .dataframe tbody tr th {\n",
       "        vertical-align: top;\n",
       "    }\n",
       "\n",
       "    .dataframe thead th {\n",
       "        text-align: right;\n",
       "    }\n",
       "</style>\n",
       "<table border=\"1\" class=\"dataframe\">\n",
       "  <thead>\n",
       "    <tr style=\"text-align: right;\">\n",
       "      <th></th>\n",
       "      <th>symbol</th>\n",
       "      <th>earnings</th>\n",
       "    </tr>\n",
       "  </thead>\n",
       "  <tbody>\n",
       "    <tr>\n",
       "      <th>0</th>\n",
       "      <td>AAPL</td>\n",
       "      <td>{'actualEPS': 2.91, 'consensusEPS': 2.79, 'est...</td>\n",
       "    </tr>\n",
       "    <tr>\n",
       "      <th>1</th>\n",
       "      <td>AAPL</td>\n",
       "      <td>{'actualEPS': 2.34, 'consensusEPS': 2.17, 'est...</td>\n",
       "    </tr>\n",
       "    <tr>\n",
       "      <th>2</th>\n",
       "      <td>AAPL</td>\n",
       "      <td>{'actualEPS': 2.73, 'consensusEPS': 2.69, 'est...</td>\n",
       "    </tr>\n",
       "    <tr>\n",
       "      <th>3</th>\n",
       "      <td>AAPL</td>\n",
       "      <td>{'actualEPS': 3.89, 'consensusEPS': 3.82000000...</td>\n",
       "    </tr>\n",
       "  </tbody>\n",
       "</table>\n",
       "</div>"
      ],
      "text/plain": [
       "  symbol                                           earnings\n",
       "0   AAPL  {'actualEPS': 2.91, 'consensusEPS': 2.79, 'est...\n",
       "1   AAPL  {'actualEPS': 2.34, 'consensusEPS': 2.17, 'est...\n",
       "2   AAPL  {'actualEPS': 2.73, 'consensusEPS': 2.69, 'est...\n",
       "3   AAPL  {'actualEPS': 3.89, 'consensusEPS': 3.82000000..."
      ]
     },
     "execution_count": 57,
     "metadata": {},
     "output_type": "execute_result"
    }
   ],
   "source": [
    "df = pandas.read_json(r.text)  \n",
    "df"
   ]
  },
  {
   "cell_type": "code",
   "execution_count": 58,
   "metadata": {
    "scrolled": true
   },
   "outputs": [
    {
     "name": "stdout",
     "output_type": "stream",
     "text": [
      "0: 2.91, 2.07\n",
      "\n",
      "1: 2.34, 1.67\n",
      "\n",
      "2: 2.73, 2.1\n",
      "\n",
      "3: 3.89, 3.36\n",
      "\n"
     ]
    }
   ],
   "source": [
    "for index, row in df.iterrows():\n",
    "    r = row['earnings']\n",
    "    print(f\"{index}: {r['actualEPS']}, {r['yearAgo']}\\n\")\n",
    "    "
   ]
  },
  {
   "cell_type": "markdown",
   "metadata": {},
   "source": [
    "## Let's get the news"
   ]
  },
  {
   "cell_type": "code",
   "execution_count": 27,
   "metadata": {},
   "outputs": [
    {
     "data": {
      "text/plain": [
       "'[{\"datetime\":\"2018-11-18T18:55:06-05:00\",\"headline\":\"Amazon\\'s Margins: What Will They Be In 2029?\",\"source\":\"SeekingAlpha\",\"url\":\"https://api.iextrading.com/1.0/stock/ibm/article/5991293195439989\",\"summary\":\"   In my last post, I built out  Amazon\\'s  (Nasdaq: AMZN )  revenue growth and mix by product category . Now onto the trickier part of the valuation: Amazon\\'s margins.    Amazon\\'s margins have always been a controversial subject, drawing the ire of value investors who don\\'t see any (and can\\'t ima…\",\"related\":\"AAPL,AMZN,Computer Hardware,CON31167138,FB,IBM,KR,NASDAQ01,ORCL,Wholesale and Retail,Computing and Information Technology,V\",\"image\":\"https://api.iextrading.com/1.0/stock/ibm/news-image/5991293195439989\"},{\"datetime\":\"2018-11-16T09:33:36-05:00\",\"headline\":\"IBM extends ServiceNow partnership, Cloud Mitigation\",\"source\":\"SeekingAlpha\",\"url\":\"https://api.iextrading.com/1.0/stock/ibm/article/7195727930812195\",\"summary\":\"     IBM (NYSE: IBM )  extends its partnership  with ServiceNow (NYSE: NOW ) to extend IBM\\'s Multicloud Management Platform with ServiceNow\\'s IT Service Management and IT Operations Management Solutions.   More news on: International Business Machines Corporation, ServiceNow, Tech stocks news,   …\",\"related\":\"APPSOFTW,IBM,INFOTECH,NOW,NYSE0001,Computing and Information Technology,WOMPOLIX\",\"image\":\"https://api.iextrading.com/1.0/stock/ibm/news-image/7195727930812195\"},{\"datetime\":\"2018-11-16T09:00:00-05:00\",\"headline\":\"IBM Expands Its Partnership with ServiceNow to Serve Multicloud Enterprises\",\"source\":\"PR Newswire\",\"url\":\"https://api.iextrading.com/1.0/stock/ibm/article/5961556722998086\",\"summary\":\"      ARMONK, N.Y. ,  Nov. 16, 2018  /PRNewswire/ --IBM (NYSE:  IBM ) today announced it has extended its partnership with ServiceNow (NYSE: NOW) to help enterprises simplify the management of their IT resources across multiple cloud environments. The partnership will bring together t…\",\"related\":\"APPSOFTW,Big Data,Computer Hardware,Computer Software,Computer,Electronics,Financial,IBM,INFOTECH,Market,Market and Economy,NOW,NYSE0001,Software,Computing and Information Technology\",\"image\":\"https://api.iextrading.com/1.0/stock/ibm/news-image/5961556722998086\"},{\"datetime\":\"2018-11-16T09:00:00-05:00\",\"headline\":\"IBM Introduces New Services to Automate Cloud Migration\",\"source\":\"PR Newswire\",\"url\":\"https://api.iextrading.com/1.0/stock/ibm/article/5885026478125056\",\"summary\":\"      ARMONK, N.Y. , Nov. 16,2018 /PRNewswire/ --IBM (NYSE:  IBM ) today launched new services to help businesses accelerate the complex process of migrating and modernizing applications to cloud and adopt a hybrid, multicloud strategy to speed up their business transformation. With n…\",\"related\":\"APPSOFTW,AUSTRALI,Automotive,Big Data,Computer Hardware,Computer Software,Computer,Electronics,IBM,INFOTECH,Market,Market and Economy,NYSE0001,Software,Computing and Information Technology\",\"image\":\"https://api.iextrading.com/1.0/stock/ibm/news-image/5885026478125056\"},{\"datetime\":\"2018-11-16T08:51:29-05:00\",\"headline\":\"Microsoft: Positioned To Benefit From Growing Hybrid Cloud Market\",\"source\":\"SeekingAlpha\",\"url\":\"https://api.iextrading.com/1.0/stock/ibm/article/8665846604758717\",\"summary\":\"   Amazon (NASDAQ: AMZN ) is currently the IaaS public cloud market leader while Microsoft (NASDAQ: MSFT ) is in second place. However, Microsoft has been gaining ground and the company\\'s advantages in hybrid cloud, a market expected to enjoy double digit annual growth rates over the next few yea…\",\"related\":\"AMZN,Computer Software,CON102,IBM,MSFT,NASDAQ01,RET10217,RHT,Software,SPECRTIL\",\"image\":\"https://api.iextrading.com/1.0/stock/ibm/news-image/8665846604758717\"},{\"datetime\":\"2018-11-16T04:30:00-05:00\",\"headline\":\"The Impact Of Dividend Increases Through September Of 2018\",\"source\":\"SeekingAlpha\",\"url\":\"https://api.iextrading.com/1.0/stock/ibm/article/8326767520735487\",\"summary\":\"   When talking about dividend increases, this is us talking about dividend investing, at its finest! Given another quarter-end had recently passed, I wanted to reflect on what occurred over the last 9 months. I do not mean just any old reflection, but I am going to be specifically talking about …\",\"related\":\"ADM,AFL,BAN10320,BAN10320050,BBL,CAT,CSCO,CZNC,DAL,DE,Financial and Business Services,GWW,IBM,INTC,INTHPINK,JNJ,KMI,KR,LMT,MCD,MPW,NASDAQ01,NSC,O,PEP,PG,PM,ROK,SMG,SOUHY,TGT,TROW,V\",\"image\":\"https://api.iextrading.com/1.0/stock/ibm/news-image/8326767520735487\"}]'"
      ]
     },
     "execution_count": 27,
     "metadata": {},
     "output_type": "execute_result"
    }
   ],
   "source": [
    "ticker = 'IBM'\n",
    "url = f'https://api.iextrading.com/1.0/stock/{ticker}/news/last/10'\n",
    "url\n",
    "r = requests.get(url)\n",
    "r.text"
   ]
  },
  {
   "cell_type": "code",
   "execution_count": 28,
   "metadata": {},
   "outputs": [
    {
     "data": {
      "text/html": [
       "<div>\n",
       "<style scoped>\n",
       "    .dataframe tbody tr th:only-of-type {\n",
       "        vertical-align: middle;\n",
       "    }\n",
       "\n",
       "    .dataframe tbody tr th {\n",
       "        vertical-align: top;\n",
       "    }\n",
       "\n",
       "    .dataframe thead th {\n",
       "        text-align: right;\n",
       "    }\n",
       "</style>\n",
       "<table border=\"1\" class=\"dataframe\">\n",
       "  <thead>\n",
       "    <tr style=\"text-align: right;\">\n",
       "      <th></th>\n",
       "      <th>datetime</th>\n",
       "      <th>headline</th>\n",
       "      <th>image</th>\n",
       "      <th>related</th>\n",
       "      <th>source</th>\n",
       "      <th>summary</th>\n",
       "      <th>url</th>\n",
       "    </tr>\n",
       "  </thead>\n",
       "  <tbody>\n",
       "    <tr>\n",
       "      <th>0</th>\n",
       "      <td>2018-11-18 23:55:06</td>\n",
       "      <td>Amazon's Margins: What Will They Be In 2029?</td>\n",
       "      <td>https://api.iextrading.com/1.0/stock/ibm/news-...</td>\n",
       "      <td>AAPL,AMZN,Computer Hardware,CON31167138,FB,IBM...</td>\n",
       "      <td>SeekingAlpha</td>\n",
       "      <td>In my last post, I built out  Amazon's  (Na...</td>\n",
       "      <td>https://api.iextrading.com/1.0/stock/ibm/artic...</td>\n",
       "    </tr>\n",
       "    <tr>\n",
       "      <th>1</th>\n",
       "      <td>2018-11-16 14:33:36</td>\n",
       "      <td>IBM extends ServiceNow partnership, Cloud Miti...</td>\n",
       "      <td>https://api.iextrading.com/1.0/stock/ibm/news-...</td>\n",
       "      <td>APPSOFTW,IBM,INFOTECH,NOW,NYSE0001,Computing a...</td>\n",
       "      <td>SeekingAlpha</td>\n",
       "      <td>IBM (NYSE: IBM )  extends its partnership...</td>\n",
       "      <td>https://api.iextrading.com/1.0/stock/ibm/artic...</td>\n",
       "    </tr>\n",
       "    <tr>\n",
       "      <th>2</th>\n",
       "      <td>2018-11-16 14:00:00</td>\n",
       "      <td>IBM Expands Its Partnership with ServiceNow to...</td>\n",
       "      <td>https://api.iextrading.com/1.0/stock/ibm/news-...</td>\n",
       "      <td>APPSOFTW,Big Data,Computer Hardware,Computer S...</td>\n",
       "      <td>PR Newswire</td>\n",
       "      <td>ARMONK, N.Y. ,  Nov. 16, 2018  /PRNewswi...</td>\n",
       "      <td>https://api.iextrading.com/1.0/stock/ibm/artic...</td>\n",
       "    </tr>\n",
       "    <tr>\n",
       "      <th>3</th>\n",
       "      <td>2018-11-16 14:00:00</td>\n",
       "      <td>IBM Introduces New Services to Automate Cloud ...</td>\n",
       "      <td>https://api.iextrading.com/1.0/stock/ibm/news-...</td>\n",
       "      <td>APPSOFTW,AUSTRALI,Automotive,Big Data,Computer...</td>\n",
       "      <td>PR Newswire</td>\n",
       "      <td>ARMONK, N.Y. , Nov. 16,2018 /PRNewswire/...</td>\n",
       "      <td>https://api.iextrading.com/1.0/stock/ibm/artic...</td>\n",
       "    </tr>\n",
       "    <tr>\n",
       "      <th>4</th>\n",
       "      <td>2018-11-16 13:51:29</td>\n",
       "      <td>Microsoft: Positioned To Benefit From Growing ...</td>\n",
       "      <td>https://api.iextrading.com/1.0/stock/ibm/news-...</td>\n",
       "      <td>AMZN,Computer Software,CON102,IBM,MSFT,NASDAQ0...</td>\n",
       "      <td>SeekingAlpha</td>\n",
       "      <td>Amazon (NASDAQ: AMZN ) is currently the Iaa...</td>\n",
       "      <td>https://api.iextrading.com/1.0/stock/ibm/artic...</td>\n",
       "    </tr>\n",
       "    <tr>\n",
       "      <th>5</th>\n",
       "      <td>2018-11-16 09:30:00</td>\n",
       "      <td>The Impact Of Dividend Increases Through Septe...</td>\n",
       "      <td>https://api.iextrading.com/1.0/stock/ibm/news-...</td>\n",
       "      <td>ADM,AFL,BAN10320,BAN10320050,BBL,CAT,CSCO,CZNC...</td>\n",
       "      <td>SeekingAlpha</td>\n",
       "      <td>When talking about dividend increases, this...</td>\n",
       "      <td>https://api.iextrading.com/1.0/stock/ibm/artic...</td>\n",
       "    </tr>\n",
       "  </tbody>\n",
       "</table>\n",
       "</div>"
      ],
      "text/plain": [
       "             datetime                                           headline  \\\n",
       "0 2018-11-18 23:55:06       Amazon's Margins: What Will They Be In 2029?   \n",
       "1 2018-11-16 14:33:36  IBM extends ServiceNow partnership, Cloud Miti...   \n",
       "2 2018-11-16 14:00:00  IBM Expands Its Partnership with ServiceNow to...   \n",
       "3 2018-11-16 14:00:00  IBM Introduces New Services to Automate Cloud ...   \n",
       "4 2018-11-16 13:51:29  Microsoft: Positioned To Benefit From Growing ...   \n",
       "5 2018-11-16 09:30:00  The Impact Of Dividend Increases Through Septe...   \n",
       "\n",
       "                                               image  \\\n",
       "0  https://api.iextrading.com/1.0/stock/ibm/news-...   \n",
       "1  https://api.iextrading.com/1.0/stock/ibm/news-...   \n",
       "2  https://api.iextrading.com/1.0/stock/ibm/news-...   \n",
       "3  https://api.iextrading.com/1.0/stock/ibm/news-...   \n",
       "4  https://api.iextrading.com/1.0/stock/ibm/news-...   \n",
       "5  https://api.iextrading.com/1.0/stock/ibm/news-...   \n",
       "\n",
       "                                             related        source  \\\n",
       "0  AAPL,AMZN,Computer Hardware,CON31167138,FB,IBM...  SeekingAlpha   \n",
       "1  APPSOFTW,IBM,INFOTECH,NOW,NYSE0001,Computing a...  SeekingAlpha   \n",
       "2  APPSOFTW,Big Data,Computer Hardware,Computer S...   PR Newswire   \n",
       "3  APPSOFTW,AUSTRALI,Automotive,Big Data,Computer...   PR Newswire   \n",
       "4  AMZN,Computer Software,CON102,IBM,MSFT,NASDAQ0...  SeekingAlpha   \n",
       "5  ADM,AFL,BAN10320,BAN10320050,BBL,CAT,CSCO,CZNC...  SeekingAlpha   \n",
       "\n",
       "                                             summary  \\\n",
       "0     In my last post, I built out  Amazon's  (Na...   \n",
       "1       IBM (NYSE: IBM )  extends its partnership...   \n",
       "2        ARMONK, N.Y. ,  Nov. 16, 2018  /PRNewswi...   \n",
       "3        ARMONK, N.Y. , Nov. 16,2018 /PRNewswire/...   \n",
       "4     Amazon (NASDAQ: AMZN ) is currently the Iaa...   \n",
       "5     When talking about dividend increases, this...   \n",
       "\n",
       "                                                 url  \n",
       "0  https://api.iextrading.com/1.0/stock/ibm/artic...  \n",
       "1  https://api.iextrading.com/1.0/stock/ibm/artic...  \n",
       "2  https://api.iextrading.com/1.0/stock/ibm/artic...  \n",
       "3  https://api.iextrading.com/1.0/stock/ibm/artic...  \n",
       "4  https://api.iextrading.com/1.0/stock/ibm/artic...  \n",
       "5  https://api.iextrading.com/1.0/stock/ibm/artic...  "
      ]
     },
     "execution_count": 28,
     "metadata": {},
     "output_type": "execute_result"
    }
   ],
   "source": [
    "df = pandas.read_json(r.text)  \n",
    "df"
   ]
  },
  {
   "cell_type": "code",
   "execution_count": 29,
   "metadata": {},
   "outputs": [
    {
     "name": "stdout",
     "output_type": "stream",
     "text": [
      "0: 2018-11-18 23:55:06, Amazon's Margins: What Will They Be In 2029?\n",
      "https://api.iextrading.com/1.0/stock/ibm/article/5991293195439989\n",
      "1: 2018-11-16 14:33:36, IBM extends ServiceNow partnership, Cloud Mitigation\n",
      "https://api.iextrading.com/1.0/stock/ibm/article/7195727930812195\n",
      "2: 2018-11-16 14:00:00, IBM Expands Its Partnership with ServiceNow to Serve Multicloud Enterprises\n",
      "https://api.iextrading.com/1.0/stock/ibm/article/5961556722998086\n",
      "3: 2018-11-16 14:00:00, IBM Introduces New Services to Automate Cloud Migration\n",
      "https://api.iextrading.com/1.0/stock/ibm/article/5885026478125056\n",
      "4: 2018-11-16 13:51:29, Microsoft: Positioned To Benefit From Growing Hybrid Cloud Market\n",
      "https://api.iextrading.com/1.0/stock/ibm/article/8665846604758717\n",
      "5: 2018-11-16 09:30:00, The Impact Of Dividend Increases Through September Of 2018\n",
      "https://api.iextrading.com/1.0/stock/ibm/article/8326767520735487\n"
     ]
    }
   ],
   "source": [
    "for index, row in df.iterrows():\n",
    "    print(f\"{index}: {row['datetime']}, {row['headline']}\\n{row['url']}\")"
   ]
  }
 ],
 "metadata": {
  "kernelspec": {
   "display_name": "Python 3",
   "language": "python",
   "name": "python3"
  },
  "language_info": {
   "codemirror_mode": {
    "name": "ipython",
    "version": 3
   },
   "file_extension": ".py",
   "mimetype": "text/x-python",
   "name": "python",
   "nbconvert_exporter": "python",
   "pygments_lexer": "ipython3",
   "version": "3.7.0"
  }
 },
 "nbformat": 4,
 "nbformat_minor": 2
}
