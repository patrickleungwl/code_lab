{
 "cells": [
  {
   "cell_type": "markdown",
   "metadata": {},
   "source": [
    "# Python Cheatsheet"
   ]
  },
  {
   "cell_type": "markdown",
   "metadata": {},
   "source": [
    "1. What is the difference between import and from lib import func?\n",
    "2. What is the difference between str and repr?\n",
    "2. What is the difference between input and raw_input?\n",
    "2. What are attributes?\n",
    "3. What are metaclasses?\n",
    "4. How to parallelise in Python?\n",
    "5. What does pickle do?\n",
    "6. What is Docstrings?\n",
    "7. How to use Inheritance?\n",
    "8. How to use enumerate instead of range?\n",
    "9. How to use zip?\n",
    "10. What is deque. OrderedDict, defaultdict\n"
   ]
  },
  {
   "cell_type": "markdown",
   "metadata": {},
   "source": [
    "## 1. What is the difference between import and from lib import func?"
   ]
  },
  {
   "cell_type": "markdown",
   "metadata": {},
   "source": [
    "* __import module_name__ creates a reference to the module.  All usage of the module goes through this reference.  For example, import modulea ... requires modulea.foo() to use.  This does not pollute the main script's namespace.\n",
    "* __from module_name import foo__ creates a reference to module_name.foo.  All usage to foo is direct.  No need to use with full namespace.func. \n",
    "* __from module_name import *__ never use this form- because this brings all functions into the main namespace (this creates references to all functions in the module).\n",
    "\n",
    "[More discussion on this topic here](https://stackoverflow.com/questions/710551/use-import-module-or-from-module-import)\n"
   ]
  },
  {
   "cell_type": "markdown",
   "metadata": {},
   "source": [
    "## 2. What is the difference between str and repr?"
   ]
  },
  {
   "cell_type": "markdown",
   "metadata": {},
   "source": [
    "repr returns legally valid python expressions whereas str returns string formatted for the user. \n",
    "\n",
    "* The goal of repr is to be unambigious- for example- with logging messages.\n",
    "* The goal of str is to be readable- for example- for users. \n",
    "* repr is for developers.  str is for users. \n",
    "* Implement __repr__ for any class you implement. This should be second nature. \n",
    "* Implement __str__ if you think it would be useful to have a string version which errs on the side of more readability in favor of more ambiguity.\n",
    "\n",
    "__str__ (read as \"dunder (double-underscore) string\") and __repr__ (read as \"dunder-repper\" (for \"representation\")) are both special methods that return strings based on the state of the object.\n",
    "\n",
    "__repr__ provides backup behavior if __str__ is missing.\n",
    "\n",
    "So one should first write a __repr__ that allows you to reinstantiate an equivalent object from the string it returns e.g. using eval or by typing it in character-for-character in a Python shell.\n",
    "\n",
    "At any time later, one can write a __str__ for a user-readable string representation of the instance, when one believes it to be necessary.\n",
    "\n",
    "[More discussion on this topic here](https://stackoverflow.com/questions/1436703/difference-between-str-and-repr/2626364#2626364)\n",
    "\n",
    "[And here](https://stackoverflow.com/questions/1436703/difference-between-str-and-repr/2626364#2626364)\n"
   ]
  },
  {
   "cell_type": "markdown",
   "metadata": {},
   "source": [
    "Let's see an example of a class with str() and repr() definitions. "
   ]
  },
  {
   "cell_type": "code",
   "execution_count": 7,
   "metadata": {},
   "outputs": [],
   "source": [
    "class fruit:\n",
    "    def __init__(self, id):\n",
    "        self.id = id\n",
    "    def __str__(self):\n",
    "        return \"str\" + str(self.id)\n"
   ]
  },
  {
   "cell_type": "code",
   "execution_count": 8,
   "metadata": {},
   "outputs": [
    {
     "name": "stdout",
     "output_type": "stream",
     "text": [
      "str1\n",
      "str2\n"
     ]
    }
   ],
   "source": [
    "apple = fruit(1)\n",
    "orange = fruit(2)\n",
    "print(apple)\n",
    "print(orange)\n"
   ]
  },
  {
   "cell_type": "code",
   "execution_count": 9,
   "metadata": {},
   "outputs": [
    {
     "name": "stdout",
     "output_type": "stream",
     "text": [
      "str1\n",
      "str2\n"
     ]
    }
   ],
   "source": [
    "fruits = [apple, orange]\n",
    "for f in fruits:\n",
    "    print(f)"
   ]
  },
  {
   "cell_type": "code",
   "execution_count": 10,
   "metadata": {},
   "outputs": [
    {
     "name": "stdout",
     "output_type": "stream",
     "text": [
      "<__main__.fruit object at 0x7f6c46a17668>\n"
     ]
    }
   ],
   "source": [
    "print(repr(apple))"
   ]
  },
  {
   "cell_type": "markdown",
   "metadata": {},
   "source": [
    "The repr results makes it possible to recreate the object. "
   ]
  },
  {
   "cell_type": "markdown",
   "metadata": {},
   "source": [
    "## 3. What is the difference between input and raw_input?"
   ]
  },
  {
   "cell_type": "markdown",
   "metadata": {},
   "source": [
    "In Python 3, there is no raw_input.  \n",
    "\n",
    "In Python 2, \n",
    "* raw_input() takes exactly what the user typed and passes it back as a string.\n",
    "* input() first takes the raw_input() and then performs an eval() on it as well.\n",
    "\n",
    "The main difference is that input() expects a syntactically correct python statement where raw_input() does not.\n",
    "\n",
    "In Python 3,\n",
    "* raw_input() was renamed to input() so now input() returns the exact string.\n",
    "* Old input() was removed.\n"
   ]
  },
  {
   "cell_type": "code",
   "execution_count": 2,
   "metadata": {},
   "outputs": [
    {
     "name": "stdout",
     "output_type": "stream",
     "text": [
      "hello world\n",
      "hello world\n"
     ]
    }
   ],
   "source": [
    "s = input()\n",
    "print(s)"
   ]
  },
  {
   "cell_type": "markdown",
   "metadata": {},
   "source": [
    "## 4. What are attributes?"
   ]
  }
 ],
 "metadata": {
  "kernelspec": {
   "display_name": "Python 3",
   "language": "python",
   "name": "python3"
  },
  "language_info": {
   "codemirror_mode": {
    "name": "ipython",
    "version": 3
   },
   "file_extension": ".py",
   "mimetype": "text/x-python",
   "name": "python",
   "nbconvert_exporter": "python",
   "pygments_lexer": "ipython3",
   "version": "3.7.0"
  }
 },
 "nbformat": 4,
 "nbformat_minor": 2
}
