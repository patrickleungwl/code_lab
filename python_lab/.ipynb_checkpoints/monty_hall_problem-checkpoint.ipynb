{
 "cells": [
  {
   "cell_type": "markdown",
   "metadata": {},
   "source": [
    "Suppose you're on a game show, and you're given the choice of three doors: Behind one door is a car; behind the others, goats. You pick a door, say No. 1, and the host, who knows what's behind the doors, opens another door, say No. 3, which has a goat. He then says to you, \"Do you want to pick door No. 2?\" \n",
    "\n",
    "Assumptions\n",
    "\n",
    "1 The host must always open a door that was not picked by the contestant\n",
    "2 The host must always open a door to reveal a goat and never the car\n",
    "3 The host must always offer the chance to switch between the originally chosen door and the remaining closed door\n"
   ]
  },
  {
   "cell_type": "code",
   "execution_count": 20,
   "metadata": {},
   "outputs": [],
   "source": [
    "import random as rn\n"
   ]
  },
  {
   "cell_type": "markdown",
   "metadata": {},
   "source": [
    "## Now we productionise the code\n",
    "\n",
    "* Doors 1 2 3\n",
    "* Player choose 1, Car behind 1, Host opens 2 or 3\n",
    "* Player choose 1, Car behind 2, Host must open 3\n",
    "* Player choose 1, Car behind 3, Host must open 2\n",
    "\n"
   ]
  },
  {
   "cell_type": "code",
   "execution_count": 21,
   "metadata": {},
   "outputs": [],
   "source": [
    "def initialise_doors(number_of_doors):\n",
    "    return doors[number_of_doors]"
   ]
  },
  {
   "cell_type": "code",
   "execution_count": 22,
   "metadata": {},
   "outputs": [],
   "source": [
    "# randomly assign a door with a car \n",
    "def set_prize_behind_random_door(number_of_doors):\n",
    "    return rn.randrange(1,number_of_doors+1)     "
   ]
  },
  {
   "cell_type": "code",
   "execution_count": 23,
   "metadata": {},
   "outputs": [],
   "source": [
    "# randomly select a door\n",
    "def player_selects_random_door(number_of_doors):\n",
    "    return rn.randrange(1,number_of_doors+1)"
   ]
  },
  {
   "cell_type": "code",
   "execution_count": 47,
   "metadata": {},
   "outputs": [],
   "source": [
    "# host opens a door - all doors\n",
    "#  not selected by player\n",
    "#  not with prize\n",
    "\n",
    "# Case A\n",
    "# player chooses 1\n",
    "# door 2 has car\n",
    "# host must open door 3+4 \n",
    "#\n",
    "# Case B\n",
    "# player chooses 1\n",
    "# door 3 has car\n",
    "# host must open door 2+4\n",
    "#\n",
    "# Case C\n",
    "# player chooses 1\n",
    "# door 1 has car\n",
    "# host can open 2+3, 3+4, or 2+4\n",
    "#\n",
    "# For Cases A and B, the doors the host opens is deterministic\n",
    "# For Case C, there is one door he can randomly pick\n",
    "# \n",
    "# For the case of 3 doors, the host opens up 1 door. \n",
    "# For the case of 4 doors, the host opens up 2 doors. \n",
    "# For the case of n doors, the host opens up n-2 doors.\n",
    "\n",
    "def host_opens_doors(number_of_doors, door_with_car, door_selected_by_player):\n",
    "    doors = {}\n",
    "    while True:\n",
    "        door_num = rn.randrange(1,number_of_doors+1) \n",
    "        if door_num != door_with_car and door_num != door_selected_by_player:\n",
    "            doors[door_num] = door_num\n",
    "        if len(doors) == number_of_doors-2:\n",
    "            break\n",
    "    return doors\n"
   ]
  },
  {
   "cell_type": "code",
   "execution_count": 48,
   "metadata": {},
   "outputs": [],
   "source": [
    "def get_door_not_opened_by_host(number_of_doors, door_selected_by_player, doors_opened_by_host):\n",
    "    unopened_door = -1\n",
    "    for i in range(1,number_of_doors+1):\n",
    "        if i != door_selected_by_player and i not in doors_opened_by_host:\n",
    "            unopened_door = i\n",
    "            break\n",
    "    return unopened_door"
   ]
  },
  {
   "cell_type": "code",
   "execution_count": 44,
   "metadata": {},
   "outputs": [],
   "source": [
    "def shall_we_play_a_game(number_of_doors,debug):\n",
    "    stay_strategy = 0\n",
    "    switch_strategy = 0 \n",
    "    \n",
    "    # 1 2 3 4 \n",
    "    # player chooses 1\n",
    "    # door 2 has car\n",
    "    # host must open door 3+4 \n",
    "    #\n",
    "    # player chooses 1\n",
    "    # door 3 has car\n",
    "    # host must open door 2+4\n",
    "    #\n",
    "    # player chooses 1\n",
    "    # door 1 has car\n",
    "    # host can open 2+3, 3+4, or 2+4\n",
    "        \n",
    "    door_with_car = set_prize_behind_random_door(number_of_doors)\n",
    "    door_selected_by_player = player_selects_random_door(number_of_doors)\n",
    "    doors_opened_by_host = host_opens_doors(number_of_doors, door_with_car, door_selected_by_player)\n",
    "    door_not_opened_by_host = get_door_not_opened_by_host(number_of_doors, door_selected_by_player, doors_opened_by_host)\n",
    "    # using stay strategy\n",
    "    if door_selected_by_player == door_with_car:\n",
    "        stay_strategy = 1\n",
    "    # using switch strategy\n",
    "    if door_not_opened_by_host == door_with_car:\n",
    "        switch_strategy = 1\n",
    "        \n",
    "    if debug==1:\n",
    "        print('door_with_car = ', door_with_car)\n",
    "        print('door_selected_by_player = ', door_selected_by_player)\n",
    "        print('doors_opened_by_host = ', doors_opened_by_host.keys())\n",
    "        print('door_not_opened_by_host = ', door_not_opened_by_host)\n",
    "        print('stay_strategy = ', stay_strategy)\n",
    "        print('switch_strategy = ', switch_strategy)\n",
    "        \n",
    "    return (stay_strategy, switch_strategy)\n"
   ]
  },
  {
   "cell_type": "code",
   "execution_count": 50,
   "metadata": {},
   "outputs": [
    {
     "name": "stdout",
     "output_type": "stream",
     "text": [
      "door_with_car =  2\n",
      "door_selected_by_player =  4\n",
      "doors_opened_by_host =  dict_keys([1, 3])\n",
      "door_not_opened_by_host =  2\n",
      "stay_strategy =  0\n",
      "switch_strategy =  1\n"
     ]
    },
    {
     "data": {
      "text/plain": [
       "(0, 1)"
      ]
     },
     "execution_count": 50,
     "metadata": {},
     "output_type": "execute_result"
    }
   ],
   "source": [
    "shall_we_play_a_game(4,1)"
   ]
  },
  {
   "cell_type": "code",
   "execution_count": 54,
   "metadata": {},
   "outputs": [],
   "source": [
    "def shall_we_play_more_games(number_of_doors, number_of_simulations):\n",
    "    stay_strategy = 0\n",
    "    switch_strategy = 0\n",
    "    for i in range(0,number_of_simulations):\n",
    "        (stay, switch) = shall_we_play_a_game(number_of_doors, 0)\n",
    "        stay_strategy = stay_strategy + stay\n",
    "        switch_strategy = switch_strategy + switch\n",
    "    return (stay_strategy, switch_strategy)   \n"
   ]
  },
  {
   "cell_type": "code",
   "execution_count": 71,
   "metadata": {},
   "outputs": [
    {
     "name": "stdout",
     "output_type": "stream",
     "text": [
      "3 10 (2, 8)\n",
      "3 100 (32, 68)\n",
      "3 1000 (313, 687)\n",
      "4 10 (3, 7)\n",
      "4 100 (27, 73)\n",
      "4 1000 (250, 750)\n",
      "5 10 (2, 8)\n",
      "5 100 (26, 74)\n",
      "5 1000 (210, 790)\n",
      "10 10 (0, 10)\n",
      "10 100 (14, 86)\n",
      "10 1000 (86, 914)\n",
      "100 10 (0, 10)\n",
      "100 100 (3, 97)\n",
      "100 1000 (12, 988)\n",
      "1000 10 (0, 10)\n",
      "1000 100 (0, 100)\n",
      "1000 1000 (0, 1000)\n",
      "done\n"
     ]
    }
   ],
   "source": [
    "num_doors = [3,4,5,10,100,1000]\n",
    "num_trials = [10,100,1000]\n",
    "for i in range(0,len(num_doors)):\n",
    "    ndoors = num_doors[i]\n",
    "    for t in range(0,len(num_trials)):\n",
    "        ntrials = num_trials[t]\n",
    "        print(ndoors, ntrials, shall_we_play_more_games(ndoors,ntrials))\n",
    "print('done')"
   ]
  }
 ],
 "metadata": {
  "kernelspec": {
   "display_name": "Python 3",
   "language": "python",
   "name": "python3"
  },
  "language_info": {
   "codemirror_mode": {
    "name": "ipython",
    "version": 3
   },
   "file_extension": ".py",
   "mimetype": "text/x-python",
   "name": "python",
   "nbconvert_exporter": "python",
   "pygments_lexer": "ipython3",
   "version": "3.7.0"
  }
 },
 "nbformat": 4,
 "nbformat_minor": 2
}
