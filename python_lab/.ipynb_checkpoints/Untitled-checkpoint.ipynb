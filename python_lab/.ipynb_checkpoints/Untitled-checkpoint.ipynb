{
 "cells": [
  {
   "cell_type": "markdown",
   "metadata": {},
   "source": [
    "## Test iex trading api for company's financials"
   ]
  },
  {
   "cell_type": "code",
   "execution_count": 6,
   "metadata": {},
   "outputs": [
    {
     "data": {
      "text/plain": [
       "'{\"symbol\":\"AAPL\",\"financials\":[{\"reportDate\":\"2018-09-30\",\"grossProfit\":24084000000,\"costOfRevenue\":38816000000,\"operatingRevenue\":62900000000,\"totalRevenue\":62900000000,\"operatingIncome\":16118000000,\"netIncome\":14125000000,\"researchAndDevelopment\":3750000000,\"operatingExpense\":7966000000,\"currentAssets\":131339000000,\"totalAssets\":365725000000,\"totalLiabilities\":null,\"currentCash\":25913000000,\"currentDebt\":20748000000,\"totalCash\":66301000000,\"totalDebt\":114483000000,\"shareholderEquity\":107147000000,\"cashChange\":-6058000000,\"cashFlow\":19523000000,\"operatingGainsLosses\":null},{\"reportDate\":\"2018-06-30\",\"grossProfit\":20421000000,\"costOfRevenue\":32844000000,\"operatingRevenue\":53265000000,\"totalRevenue\":53265000000,\"operatingIncome\":12612000000,\"netIncome\":11519000000,\"researchAndDevelopment\":3701000000,\"operatingExpense\":7809000000,\"currentAssets\":115761000000,\"totalAssets\":349197000000,\"totalLiabilities\":null,\"currentCash\":31971000000,\"currentDebt\":17472000000,\"totalCash\":70970000000,\"totalDebt\":114600000000,\"shareholderEquity\":114949000000,\"cashChange\":-13088000000,\"cashFlow\":14488000000,\"operatingGainsLosses\":null},{\"reportDate\":\"2018-03-31\",\"grossProfit\":23422000000,\"costOfRevenue\":37715000000,\"operatingRevenue\":61137000000,\"totalRevenue\":61137000000,\"operatingIncome\":15894000000,\"netIncome\":13822000000,\"researchAndDevelopment\":3378000000,\"operatingExpense\":7528000000,\"currentAssets\":130053000000,\"totalAssets\":367502000000,\"totalLiabilities\":null,\"currentCash\":45059000000,\"currentDebt\":20478000000,\"totalCash\":87940000000,\"totalDebt\":121840000000,\"shareholderEquity\":126878000000,\"cashChange\":17568000000,\"cashFlow\":15130000000,\"operatingGainsLosses\":null},{\"reportDate\":\"2017-12-31\",\"grossProfit\":33912000000,\"costOfRevenue\":54381000000,\"operatingRevenue\":88293000000,\"totalRevenue\":88293000000,\"operatingIncome\":26274000000,\"netIncome\":20065000000,\"researchAndDevelopment\":3407000000,\"operatingExpense\":7638000000,\"currentAssets\":143810000000,\"totalAssets\":406794000000,\"totalLiabilities\":null,\"currentCash\":27491000000,\"currentDebt\":18478000000,\"totalCash\":77153000000,\"totalDebt\":122400000000,\"shareholderEquity\":140199000000,\"cashChange\":7202000000,\"cashFlow\":28293000000,\"operatingGainsLosses\":null}]}'"
      ]
     },
     "execution_count": 6,
     "metadata": {},
     "output_type": "execute_result"
    }
   ],
   "source": [
    "import requests\n",
    "import pandas\n",
    "\n",
    "ticker = 'AAPL'\n",
    "url = f'https://api.iextrading.com/1.0/stock/{ticker}/financials'\n",
    "url\n",
    "r = requests.get(url)\n",
    "r.text\n"
   ]
  },
  {
   "cell_type": "code",
   "execution_count": 7,
   "metadata": {},
   "outputs": [
    {
     "data": {
      "text/html": [
       "<div>\n",
       "<style scoped>\n",
       "    .dataframe tbody tr th:only-of-type {\n",
       "        vertical-align: middle;\n",
       "    }\n",
       "\n",
       "    .dataframe tbody tr th {\n",
       "        vertical-align: top;\n",
       "    }\n",
       "\n",
       "    .dataframe thead th {\n",
       "        text-align: right;\n",
       "    }\n",
       "</style>\n",
       "<table border=\"1\" class=\"dataframe\">\n",
       "  <thead>\n",
       "    <tr style=\"text-align: right;\">\n",
       "      <th></th>\n",
       "      <th>symbol</th>\n",
       "      <th>financials</th>\n",
       "    </tr>\n",
       "  </thead>\n",
       "  <tbody>\n",
       "    <tr>\n",
       "      <th>0</th>\n",
       "      <td>AAPL</td>\n",
       "      <td>{'reportDate': '2018-09-30', 'grossProfit': 24...</td>\n",
       "    </tr>\n",
       "    <tr>\n",
       "      <th>1</th>\n",
       "      <td>AAPL</td>\n",
       "      <td>{'reportDate': '2018-06-30', 'grossProfit': 20...</td>\n",
       "    </tr>\n",
       "    <tr>\n",
       "      <th>2</th>\n",
       "      <td>AAPL</td>\n",
       "      <td>{'reportDate': '2018-03-31', 'grossProfit': 23...</td>\n",
       "    </tr>\n",
       "    <tr>\n",
       "      <th>3</th>\n",
       "      <td>AAPL</td>\n",
       "      <td>{'reportDate': '2017-12-31', 'grossProfit': 33...</td>\n",
       "    </tr>\n",
       "  </tbody>\n",
       "</table>\n",
       "</div>"
      ],
      "text/plain": [
       "  symbol                                         financials\n",
       "0   AAPL  {'reportDate': '2018-09-30', 'grossProfit': 24...\n",
       "1   AAPL  {'reportDate': '2018-06-30', 'grossProfit': 20...\n",
       "2   AAPL  {'reportDate': '2018-03-31', 'grossProfit': 23...\n",
       "3   AAPL  {'reportDate': '2017-12-31', 'grossProfit': 33..."
      ]
     },
     "execution_count": 7,
     "metadata": {},
     "output_type": "execute_result"
    }
   ],
   "source": [
    "df = pandas.read_json(r.text)  \n",
    "df"
   ]
  },
  {
   "cell_type": "code",
   "execution_count": 9,
   "metadata": {},
   "outputs": [
    {
     "data": {
      "text/plain": [
       "4"
      ]
     },
     "execution_count": 9,
     "metadata": {},
     "output_type": "execute_result"
    }
   ],
   "source": [
    "len(df)"
   ]
  },
  {
   "cell_type": "code",
   "execution_count": 13,
   "metadata": {},
   "outputs": [
    {
     "name": "stdout",
     "output_type": "stream",
     "text": [
      "0: {'reportDate': '2018-09-30', 'grossProfit': 24084000000, 'costOfRevenue': 38816000000, 'operatingRevenue': 62900000000, 'totalRevenue': 62900000000, 'operatingIncome': 16118000000, 'netIncome': 14125000000, 'researchAndDevelopment': 3750000000, 'operatingExpense': 7966000000, 'currentAssets': 131339000000, 'totalAssets': 365725000000, 'totalLiabilities': None, 'currentCash': 25913000000, 'currentDebt': 20748000000, 'totalCash': 66301000000, 'totalDebt': 114483000000, 'shareholderEquity': 107147000000, 'cashChange': -6058000000, 'cashFlow': 19523000000, 'operatingGainsLosses': None}\n",
      "\n",
      "1: {'reportDate': '2018-06-30', 'grossProfit': 20421000000, 'costOfRevenue': 32844000000, 'operatingRevenue': 53265000000, 'totalRevenue': 53265000000, 'operatingIncome': 12612000000, 'netIncome': 11519000000, 'researchAndDevelopment': 3701000000, 'operatingExpense': 7809000000, 'currentAssets': 115761000000, 'totalAssets': 349197000000, 'totalLiabilities': None, 'currentCash': 31971000000, 'currentDebt': 17472000000, 'totalCash': 70970000000, 'totalDebt': 114600000000, 'shareholderEquity': 114949000000, 'cashChange': -13088000000, 'cashFlow': 14488000000, 'operatingGainsLosses': None}\n",
      "\n",
      "2: {'reportDate': '2018-03-31', 'grossProfit': 23422000000, 'costOfRevenue': 37715000000, 'operatingRevenue': 61137000000, 'totalRevenue': 61137000000, 'operatingIncome': 15894000000, 'netIncome': 13822000000, 'researchAndDevelopment': 3378000000, 'operatingExpense': 7528000000, 'currentAssets': 130053000000, 'totalAssets': 367502000000, 'totalLiabilities': None, 'currentCash': 45059000000, 'currentDebt': 20478000000, 'totalCash': 87940000000, 'totalDebt': 121840000000, 'shareholderEquity': 126878000000, 'cashChange': 17568000000, 'cashFlow': 15130000000, 'operatingGainsLosses': None}\n",
      "\n",
      "3: {'reportDate': '2017-12-31', 'grossProfit': 33912000000, 'costOfRevenue': 54381000000, 'operatingRevenue': 88293000000, 'totalRevenue': 88293000000, 'operatingIncome': 26274000000, 'netIncome': 20065000000, 'researchAndDevelopment': 3407000000, 'operatingExpense': 7638000000, 'currentAssets': 143810000000, 'totalAssets': 406794000000, 'totalLiabilities': None, 'currentCash': 27491000000, 'currentDebt': 18478000000, 'totalCash': 77153000000, 'totalDebt': 122400000000, 'shareholderEquity': 140199000000, 'cashChange': 7202000000, 'cashFlow': 28293000000, 'operatingGainsLosses': None}\n",
      "\n"
     ]
    }
   ],
   "source": [
    "for index, row in df.iterrows():\n",
    "    print(f\"{index}: {row['financials']}\\n\")\n"
   ]
  },
  {
   "cell_type": "markdown",
   "metadata": {},
   "source": [
    "Let's try the annualized earnings.  Quarterly earnings fluctuate too much. "
   ]
  },
  {
   "cell_type": "code",
   "execution_count": 18,
   "metadata": {},
   "outputs": [
    {
     "data": {
      "text/html": [
       "<div>\n",
       "<style scoped>\n",
       "    .dataframe tbody tr th:only-of-type {\n",
       "        vertical-align: middle;\n",
       "    }\n",
       "\n",
       "    .dataframe tbody tr th {\n",
       "        vertical-align: top;\n",
       "    }\n",
       "\n",
       "    .dataframe thead th {\n",
       "        text-align: right;\n",
       "    }\n",
       "</style>\n",
       "<table border=\"1\" class=\"dataframe\">\n",
       "  <thead>\n",
       "    <tr style=\"text-align: right;\">\n",
       "      <th></th>\n",
       "      <th>symbol</th>\n",
       "      <th>financials</th>\n",
       "    </tr>\n",
       "  </thead>\n",
       "  <tbody>\n",
       "    <tr>\n",
       "      <th>0</th>\n",
       "      <td>AAPL</td>\n",
       "      <td>{'reportDate': '2018-09-30', 'grossProfit': 10...</td>\n",
       "    </tr>\n",
       "    <tr>\n",
       "      <th>1</th>\n",
       "      <td>AAPL</td>\n",
       "      <td>{'reportDate': '2017-09-30', 'grossProfit': 88...</td>\n",
       "    </tr>\n",
       "    <tr>\n",
       "      <th>2</th>\n",
       "      <td>AAPL</td>\n",
       "      <td>{'reportDate': '2016-09-30', 'grossProfit': 84...</td>\n",
       "    </tr>\n",
       "    <tr>\n",
       "      <th>3</th>\n",
       "      <td>AAPL</td>\n",
       "      <td>{'reportDate': '2015-09-30', 'grossProfit': 93...</td>\n",
       "    </tr>\n",
       "  </tbody>\n",
       "</table>\n",
       "</div>"
      ],
      "text/plain": [
       "  symbol                                         financials\n",
       "0   AAPL  {'reportDate': '2018-09-30', 'grossProfit': 10...\n",
       "1   AAPL  {'reportDate': '2017-09-30', 'grossProfit': 88...\n",
       "2   AAPL  {'reportDate': '2016-09-30', 'grossProfit': 84...\n",
       "3   AAPL  {'reportDate': '2015-09-30', 'grossProfit': 93..."
      ]
     },
     "execution_count": 18,
     "metadata": {},
     "output_type": "execute_result"
    }
   ],
   "source": [
    "url = f'https://api.iextrading.com/1.0/stock/{ticker}/financials?period=annual'\n",
    "url\n",
    "r = requests.get(url)\n",
    "df = pandas.read_json(r.text)  \n",
    "df"
   ]
  },
  {
   "cell_type": "code",
   "execution_count": 17,
   "metadata": {},
   "outputs": [
    {
     "name": "stdout",
     "output_type": "stream",
     "text": [
      "0: {'reportDate': '2018-09-30', 'grossProfit': 101839000000, 'costOfRevenue': 163756000000, 'operatingRevenue': 265595000000, 'totalRevenue': 265595000000, 'operatingIncome': 70898000000, 'netIncome': 59531000000, 'researchAndDevelopment': 14236000000, 'operatingExpense': 30941000000, 'currentAssets': 131339000000, 'totalAssets': 365725000000, 'totalLiabilities': None, 'currentCash': 25913000000, 'currentDebt': 20748000000, 'totalCash': 66301000000, 'totalDebt': 114483000000, 'shareholderEquity': 107147000000, 'cashChange': 5624000000, 'cashFlow': 77434000000, 'operatingGainsLosses': None}\n",
      "\n",
      "1: {'reportDate': '2017-09-30', 'grossProfit': 88186000000, 'costOfRevenue': 141048000000, 'operatingRevenue': 229234000000, 'totalRevenue': 229234000000, 'operatingIncome': 61344000000, 'netIncome': 48351000000, 'researchAndDevelopment': 11581000000, 'operatingExpense': 26842000000, 'currentAssets': 128645000000, 'totalAssets': 375319000000, 'totalLiabilities': None, 'currentCash': 20289000000, 'currentDebt': 18473000000, 'totalCash': 74181000000, 'totalDebt': 115680000000, 'shareholderEquity': 134047000000, 'cashChange': -195000000, 'cashFlow': 63598000000, 'operatingGainsLosses': None}\n",
      "\n",
      "2: {'reportDate': '2016-09-30', 'grossProfit': 84263000000, 'costOfRevenue': 131376000000, 'operatingRevenue': 215639000000, 'totalRevenue': 215639000000, 'operatingIncome': 60024000000, 'netIncome': 45687000000, 'researchAndDevelopment': 10045000000, 'operatingExpense': 24239000000, 'currentAssets': 106869000000, 'totalAssets': 321686000000, 'totalLiabilities': None, 'currentCash': 20484000000, 'currentDebt': 11605000000, 'totalCash': 67155000000, 'totalDebt': 87032000000, 'shareholderEquity': 128249000000, 'cashChange': -636000000, 'cashFlow': 65824000000, 'operatingGainsLosses': None}\n",
      "\n",
      "3: {'reportDate': '2015-09-30', 'grossProfit': 93626000000, 'costOfRevenue': 140089000000, 'operatingRevenue': 233715000000, 'totalRevenue': 233715000000, 'operatingIncome': 71230000000, 'netIncome': 53394000000, 'researchAndDevelopment': 8067000000, 'operatingExpense': 22396000000, 'currentAssets': 89378000000, 'totalAssets': 290345000000, 'totalLiabilities': None, 'currentCash': 21120000000, 'currentDebt': 10999000000, 'totalCash': 41601000000, 'totalDebt': 64328000000, 'shareholderEquity': 119355000000, 'cashChange': 7276000000, 'cashFlow': 81266000000, 'operatingGainsLosses': None}\n",
      "\n"
     ]
    }
   ],
   "source": [
    "for index, row in df.iterrows():\n",
    "    print(f\"{index}: {row['financials']}\\n\")"
   ]
  }
 ],
 "metadata": {
  "kernelspec": {
   "display_name": "Python 3",
   "language": "python",
   "name": "python3"
  },
  "language_info": {
   "codemirror_mode": {
    "name": "ipython",
    "version": 3
   },
   "file_extension": ".py",
   "mimetype": "text/x-python",
   "name": "python",
   "nbconvert_exporter": "python",
   "pygments_lexer": "ipython3",
   "version": "3.7.0"
  }
 },
 "nbformat": 4,
 "nbformat_minor": 2
}
