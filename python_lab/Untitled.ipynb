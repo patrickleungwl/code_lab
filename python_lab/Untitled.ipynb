{
 "cells": [
  {
   "cell_type": "markdown",
   "metadata": {},
   "source": [
    "Suppose you're on a game show, and you're given the choice of three doors: Behind one door is a car; behind the others, goats. You pick a door, say No. 1, and the host, who knows what's behind the doors, opens another door, say No. 3, which has a goat. He then says to you, \"Do you want to pick door No. 2?\" \n",
    "\n",
    "Assumptions\n",
    "\n",
    "1 The host must always open a door that was not picked by the contestant\n",
    "2 The host must always open a door to reveal a goat and never the car\n",
    "3 The host must always offer the chance to switch between the originally chosen door and the remaining closed door\n"
   ]
  },
  {
   "cell_type": "code",
   "execution_count": 1,
   "metadata": {},
   "outputs": [],
   "source": [
    "import random as rn\n"
   ]
  },
  {
   "cell_type": "markdown",
   "metadata": {},
   "source": [
    "## Now we productionise the code\n",
    "\n",
    "* Doors 1 2 3\n",
    "* Player choose 1, Car behind 1, Host opens 2 or 3\n",
    "* Player choose 1, Car behind 2, Host must open 3\n",
    "* Player choose 1, Car behind 3, Host must open 2\n",
    "\n"
   ]
  },
  {
   "cell_type": "code",
   "execution_count": 2,
   "metadata": {},
   "outputs": [],
   "source": [
    "def initialise_doors(number_of_doors):\n",
    "    return doors[number_of_doors]"
   ]
  },
  {
   "cell_type": "code",
   "execution_count": 3,
   "metadata": {},
   "outputs": [],
   "source": [
    "# randomly assign a door with a car \n",
    "def set_prize_behind_random_door(number_of_doors):\n",
    "    return rn.randrange(1,number_of_doors+1)     "
   ]
  },
  {
   "cell_type": "code",
   "execution_count": 4,
   "metadata": {},
   "outputs": [],
   "source": [
    "# randomly select a door\n",
    "def player_selects_random_door(number_of_doors):\n",
    "    return rn.randrange(1,number_of_doors+1)"
   ]
  },
  {
   "cell_type": "code",
   "execution_count": 5,
   "metadata": {},
   "outputs": [],
   "source": [
    "# host opens a door - all doors\n",
    "#  not selected by player\n",
    "#  not with prize\n",
    "def host_opens_door(number_of_doors, door_with_car, door_selected_by_player):\n",
    "    door_opened_by_host = -1\n",
    "    while True:\n",
    "        door_opened_by_host = rn.randrange(1,4) \n",
    "        if door_opened_by_host != door_with_car and door_opened_by_host != door_selected_by_player:\n",
    "            break\n",
    "    return door_opened_by_host\n"
   ]
  },
  {
   "cell_type": "code",
   "execution_count": 6,
   "metadata": {},
   "outputs": [],
   "source": [
    "def get_door_not_opened_by_host(number_of_doors, door_selected_by_player, door_opened_by_host):\n",
    "        for i in range(1,number_of_doors+1):\n",
    "            if i != door_selected_by_player and i != door_opened_by_host:\n",
    "                return i\n",
    "        return -1"
   ]
  },
  {
   "cell_type": "code",
   "execution_count": 7,
   "metadata": {},
   "outputs": [],
   "source": [
    "def shall_we_play_a_game(number_of_doors,debug):\n",
    "    stay_strategy = 0\n",
    "    switch_strategy = 0 \n",
    "    door_with_car = set_prize_behind_random_door(number_of_doors)\n",
    "    door_selected_by_player = player_selects_random_door(number_of_doors)\n",
    "    door_opened_by_host = host_opens_door(number_of_doors, door_with_car, door_selected_by_player)\n",
    "    door_not_opened_by_host = get_door_not_opened_by_host(number_of_doors, door_selected_by_player, door_opened_by_host)\n",
    "    # using stay strategy\n",
    "    if door_selected_by_player == door_with_car:\n",
    "        stay_strategy = 1\n",
    "    # using switch strategy\n",
    "    if door_not_opened_by_host == door_with_car:\n",
    "        switch_strategy = 1\n",
    "        \n",
    "    if debug==1:\n",
    "        print('door_with_car = ', door_with_car)\n",
    "        print('door_selected_by_player = ', door_selected_by_player)\n",
    "        print('door_opened_by_host = ', door_opened_by_host)\n",
    "        print('door_not_opened_by_host = ', door_not_opened_by_host)\n",
    "        print('stay_strategy = ', stay_strategy)\n",
    "        print('switch_strategy = ', switch_strategy)\n",
    "        \n",
    "    return (stay_strategy, switch_strategy)\n"
   ]
  },
  {
   "cell_type": "code",
   "execution_count": 8,
   "metadata": {},
   "outputs": [
    {
     "name": "stdout",
     "output_type": "stream",
     "text": [
      "door_with_car =  3\n",
      "door_selected_by_player =  1\n",
      "door_opened_by_host =  2\n",
      "door_not_opened_by_host =  3\n",
      "stay_strategy =  0\n",
      "switch_strategy =  1\n"
     ]
    },
    {
     "data": {
      "text/plain": [
       "(0, 1)"
      ]
     },
     "execution_count": 8,
     "metadata": {},
     "output_type": "execute_result"
    }
   ],
   "source": [
    "shall_we_play_a_game(3,1)"
   ]
  },
  {
   "cell_type": "code",
   "execution_count": 9,
   "metadata": {},
   "outputs": [
    {
     "name": "stdout",
     "output_type": "stream",
     "text": [
      "3312 6688\n"
     ]
    }
   ],
   "source": [
    "stay_strategy = 0\n",
    "switch_strategy = 0\n",
    "number_of_doors = 3\n",
    "for i in range(0,10000):\n",
    "    (stay, switch) = shall_we_play_a_game(number_of_doors, 0)\n",
    "    stay_strategy = stay_strategy + stay\n",
    "    switch_strategy = switch_strategy + switch\n",
    "    \n",
    "print(stay_strategy, switch_strategy)   \n"
   ]
  }
 ],
 "metadata": {
  "kernelspec": {
   "display_name": "Python 3",
   "language": "python",
   "name": "python3"
  },
  "language_info": {
   "codemirror_mode": {
    "name": "ipython",
    "version": 3
   },
   "file_extension": ".py",
   "mimetype": "text/x-python",
   "name": "python",
   "nbconvert_exporter": "python",
   "pygments_lexer": "ipython3",
   "version": "3.7.0"
  }
 },
 "nbformat": 4,
 "nbformat_minor": 2
}
