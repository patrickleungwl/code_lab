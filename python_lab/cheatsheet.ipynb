{
 "cells": [
  {
   "cell_type": "markdown",
   "metadata": {},
   "source": [
    "# Python Cheatsheet"
   ]
  },
  {
   "cell_type": "markdown",
   "metadata": {},
   "source": [
    "1. Basics\n",
    "1. What is the difference between import and from lib import func?\n",
    "2. What is the difference between str and repr?\n",
    "2. What is the difference between input and raw_input?\n",
    "2. What is the difference between %s and format?\n",
    "2. How to get the type of an object?\n",
    "2. What are attributes?\n",
    "3. What are metaclasses?\n",
    "4. How to parallelise in Python?\n",
    "5. What does pickle do?\n",
    "6. What is Docstrings?\n",
    "7. How to use Inheritance?\n",
    "8. How to use enumerate instead of range?\n",
    "9. How to use zip?\n",
    "10. What is deque. OrderedDict, defaultdict\n"
   ]
  },
  {
   "cell_type": "markdown",
   "metadata": {},
   "source": [
    "## 1. Basics"
   ]
  },
  {
   "cell_type": "markdown",
   "metadata": {},
   "source": [
    "### Reading files\n",
    "\n",
    "    with open('Path/to/file', 'r') as cfile:\n",
    "        content = cfile.read()\n",
    "    \n",
    "### Writing files\n",
    "\n",
    "    with open('Path/to/file', 'w') as cfile:\n",
    "        cfile.write('abc')\n",
    "    \n",
    "### object ids\n",
    "\n",
    "    id(myobj)\n",
    "    \n",
    "### object types\n",
    "\n",
    "    type(myobj)\n",
    "    \n",
    "   "
   ]
  },
  {
   "cell_type": "markdown",
   "metadata": {},
   "source": [
    "## 2. What is the difference between import and from lib import func?"
   ]
  },
  {
   "cell_type": "markdown",
   "metadata": {},
   "source": [
    "* __import module_name__ creates a reference to the module.  All usage of the module goes through this reference.  For example, import modulea ... requires modulea.foo() to use.  This does not pollute the main script's namespace.\n",
    "* __from module_name import foo__ creates a reference to module_name.foo.  All usage to foo is direct.  No need to use with full namespace.func. \n",
    "* __from module_name import *__ never use this form- because this brings all functions into the main namespace (this creates references to all functions in the module).\n",
    "\n",
    "[More discussion on this topic here](https://stackoverflow.com/questions/710551/use-import-module-or-from-module-import)\n"
   ]
  },
  {
   "cell_type": "markdown",
   "metadata": {},
   "source": [
    "## 3. What is the difference between str and repr?"
   ]
  },
  {
   "cell_type": "markdown",
   "metadata": {},
   "source": [
    "repr returns legally valid python expressions whereas str returns string formatted for the user. \n",
    "\n",
    "* The goal of repr is to be unambigious- for example- with logging messages.\n",
    "* The goal of str is to be readable- for example- for users. \n",
    "* repr is for developers.  str is for users. \n",
    "* Implement __repr__ for any class you implement. This should be second nature. \n",
    "* Implement __str__ if you think it would be useful to have a string version which errs on the side of more readability in favor of more ambiguity.\n",
    "\n",
    "__str__ (read as \"dunder (double-underscore) string\") and __repr__ (read as \"dunder-repper\" (for \"representation\")) are both special methods that return strings based on the state of the object.\n",
    "\n",
    "__repr__ provides backup behavior if __str__ is missing.\n",
    "\n",
    "So one should first write a __repr__ that allows you to reinstantiate an equivalent object from the string it returns e.g. using eval or by typing it in character-for-character in a Python shell.\n",
    "\n",
    "At any time later, one can write a __str__ for a user-readable string representation of the instance, when one believes it to be necessary.\n",
    "\n",
    "[More discussion on this topic here](https://stackoverflow.com/questions/1436703/difference-between-str-and-repr/2626364#2626364)\n",
    "\n",
    "[And here](https://stackoverflow.com/questions/1436703/difference-between-str-and-repr/2626364#2626364)\n"
   ]
  },
  {
   "cell_type": "markdown",
   "metadata": {},
   "source": [
    "Let's see an example of a class with str() and repr() definitions. "
   ]
  },
  {
   "cell_type": "code",
   "execution_count": 19,
   "metadata": {},
   "outputs": [],
   "source": [
    "class fruit:\n",
    "    def __init__(self, id):\n",
    "        self.id = id\n",
    "    def __str__(self):\n",
    "        return \"str\" + str(self.id)\n"
   ]
  },
  {
   "cell_type": "code",
   "execution_count": 20,
   "metadata": {},
   "outputs": [
    {
     "name": "stdout",
     "output_type": "stream",
     "text": [
      "str1\n",
      "str2\n"
     ]
    }
   ],
   "source": [
    "apple = fruit(1)\n",
    "orange = fruit(2)\n",
    "print(apple)\n",
    "print(orange)\n"
   ]
  },
  {
   "cell_type": "code",
   "execution_count": 21,
   "metadata": {},
   "outputs": [
    {
     "name": "stdout",
     "output_type": "stream",
     "text": [
      "str1\n",
      "str2\n"
     ]
    }
   ],
   "source": [
    "fruits = [apple, orange]\n",
    "for f in fruits:\n",
    "    print(f)"
   ]
  },
  {
   "cell_type": "code",
   "execution_count": 22,
   "metadata": {},
   "outputs": [
    {
     "name": "stdout",
     "output_type": "stream",
     "text": [
      "<__main__.fruit object at 0x7f9228384898>\n"
     ]
    }
   ],
   "source": [
    "print(repr(apple))"
   ]
  },
  {
   "cell_type": "markdown",
   "metadata": {},
   "source": [
    "The repr results makes it possible to recreate the object. "
   ]
  },
  {
   "cell_type": "markdown",
   "metadata": {},
   "source": [
    "## 4. What is the difference between input and raw_input?"
   ]
  },
  {
   "cell_type": "markdown",
   "metadata": {},
   "source": [
    "In Python 3, there is no raw_input.  \n",
    "\n",
    "In Python 2, \n",
    "* raw_input() takes exactly what the user typed and passes it back as a string.\n",
    "* input() first takes the raw_input() and then performs an eval() on it as well.\n",
    "\n",
    "The main difference is that input() expects a syntactically correct python statement where raw_input() does not.\n",
    "\n",
    "In Python 3,\n",
    "* raw_input() was renamed to input() so now input() returns the exact string.\n",
    "* Old input() was removed.\n",
    "\n",
    "[Discussion here](https://stackoverflow.com/questions/4915361/whats-the-difference-between-raw-input-and-input-in-python3-x)\n"
   ]
  },
  {
   "cell_type": "code",
   "execution_count": 23,
   "metadata": {},
   "outputs": [
    {
     "name": "stdout",
     "output_type": "stream",
     "text": [
      "2\n",
      "2\n"
     ]
    }
   ],
   "source": [
    "s = input()\n",
    "print(s)"
   ]
  },
  {
   "cell_type": "markdown",
   "metadata": {},
   "source": [
    "## 5. What is the difference between %s and format?"
   ]
  },
  {
   "cell_type": "markdown",
   "metadata": {},
   "source": [
    "%s is Python's old style printing method.  [Python 2.6 introduced a format() - which works better with lists.](https://stackoverflow.com/questions/5082452/python-string-formatting-vs-format)\n",
    "\n",
    "[Python 3.6 introduced formatted string literals as C# like way of printing in-string.](https://docs.python.org/3/whatsnew/3.6.html#whatsnew36-pep498)\n",
    "\n",
    "Let's see examples. "
   ]
  },
  {
   "cell_type": "code",
   "execution_count": 24,
   "metadata": {},
   "outputs": [
    {
     "name": "stdout",
     "output_type": "stream",
     "text": [
      "hello abc=[1, 2, 3]\n"
     ]
    },
    {
     "ename": "TypeError",
     "evalue": "not all arguments converted during string formatting",
     "output_type": "error",
     "traceback": [
      "\u001b[0;31m---------------------------------------------------------------------------\u001b[0m",
      "\u001b[0;31mTypeError\u001b[0m                                 Traceback (most recent call last)",
      "\u001b[0;32m<ipython-input-24-ffec789eab58>\u001b[0m in \u001b[0;36m<module>\u001b[0;34m()\u001b[0m\n\u001b[1;32m      4\u001b[0m \u001b[0;34m\u001b[0m\u001b[0m\n\u001b[1;32m      5\u001b[0m \u001b[0mmyset\u001b[0m \u001b[0;34m=\u001b[0m \u001b[0;34m(\u001b[0m\u001b[0;36m1\u001b[0m\u001b[0;34m,\u001b[0m\u001b[0;36m2\u001b[0m\u001b[0;34m,\u001b[0m\u001b[0;36m3\u001b[0m\u001b[0;34m)\u001b[0m\u001b[0;34m\u001b[0m\u001b[0m\n\u001b[0;32m----> 6\u001b[0;31m \u001b[0mprint\u001b[0m\u001b[0;34m(\u001b[0m\u001b[0;34m\"set=%s\"\u001b[0m \u001b[0;34m%\u001b[0m \u001b[0;34m(\u001b[0m\u001b[0mmyset\u001b[0m\u001b[0;34m)\u001b[0m\u001b[0;34m)\u001b[0m\u001b[0;34m\u001b[0m\u001b[0m\n\u001b[0m",
      "\u001b[0;31mTypeError\u001b[0m: not all arguments converted during string formatting"
     ]
    }
   ],
   "source": [
    "s = \"abc\"\n",
    "mylist = [1, 2, 3]\n",
    "print(\"hello %s=%s\" % (s, mylist))\n",
    "\n",
    "myset = (1,2,3)\n",
    "print(\"set=%s\" % (myset))"
   ]
  },
  {
   "cell_type": "code",
   "execution_count": null,
   "metadata": {
    "scrolled": true
   },
   "outputs": [],
   "source": [
    "print(\"hello {0}={1}\".format(s, mylist))\n",
    "print(\"set={0}\".format(myset))\n",
    "print(f\"hello {s}={mylist}\")\n",
    "print(f\"set={myset}\")\n"
   ]
  },
  {
   "cell_type": "markdown",
   "metadata": {},
   "source": [
    "## 6. How to get the type of an object?"
   ]
  },
  {
   "cell_type": "markdown",
   "metadata": {},
   "source": [
    "Use type()"
   ]
  },
  {
   "cell_type": "code",
   "execution_count": null,
   "metadata": {},
   "outputs": [],
   "source": [
    "a = 'abcd'\n",
    "b = 2.1\n",
    "c = []\n",
    "print(type(a))\n",
    "print(type(b))\n",
    "print(type(c))"
   ]
  },
  {
   "cell_type": "markdown",
   "metadata": {},
   "source": [
    "## 7. What are attributes?"
   ]
  }
 ],
 "metadata": {
  "kernelspec": {
   "display_name": "Python 3",
   "language": "python",
   "name": "python3"
  },
  "language_info": {
   "codemirror_mode": {
    "name": "ipython",
    "version": 3
   },
   "file_extension": ".py",
   "mimetype": "text/x-python",
   "name": "python",
   "nbconvert_exporter": "python",
   "pygments_lexer": "ipython3",
   "version": "3.7.0"
  }
 },
 "nbformat": 4,
 "nbformat_minor": 2
}
