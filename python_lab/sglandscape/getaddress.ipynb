{
 "cells": [
  {
   "cell_type": "markdown",
   "metadata": {},
   "source": [
    "# Get Address\n",
    "\n",
    "Get local street address from condo website.\n",
    "\n",
    "We will link the condo name -> address -> transaction prices to generate a heat map. \n"
   ]
  },
  {
   "cell_type": "code",
   "execution_count": 2,
   "metadata": {
    "collapsed": true
   },
   "outputs": [],
   "source": [
    "import requests\n",
    "import string\n",
    "import time\n",
    "\n",
    "from bs4 import BeautifulSoup"
   ]
  },
  {
   "cell_type": "markdown",
   "metadata": {},
   "source": [
    "Let's see what happens when we request one condo page's contents"
   ]
  },
  {
   "cell_type": "code",
   "execution_count": 4,
   "metadata": {},
   "outputs": [
    {
     "data": {
      "text/plain": [
       "'<!doctype html>\\n<html lang=\"en-us\" data-reactroot=\"\" data-reactid=\"1\" data-react-checksum=\"1968754706\"><head data-reactid=\"2\"><title data-react-helmet=\"true\" data-reactid=\"3\">Astrid Meadows Condo - Pr'"
      ]
     },
     "execution_count": 4,
     "metadata": {},
     "output_type": "execute_result"
    }
   ],
   "source": [
    "r = requests.get(\"https://www.99.co/singapore/condos-apartments/astrid-meadows\")\n",
    "r.text[:200]"
   ]
  },
  {
   "cell_type": "markdown",
   "metadata": {},
   "source": [
    "Use BeautifulSoup to parse the page contents"
   ]
  },
  {
   "cell_type": "code",
   "execution_count": 5,
   "metadata": {},
   "outputs": [
    {
     "data": {
      "text/plain": [
       "6"
      ]
     },
     "execution_count": 5,
     "metadata": {},
     "output_type": "execute_result"
    }
   ],
   "source": [
    "soup = BeautifulSoup(r.text, 'html5lib')\n",
    "page_headings = soup.find_all('h5')\n",
    "len(page_headings)"
   ]
  },
  {
   "cell_type": "code",
   "execution_count": 6,
   "metadata": {},
   "outputs": [
    {
     "name": "stdout",
     "output_type": "stream",
     "text": [
      "<h1 class=\"Heading__heading__2ncUp\" data-reactid=\"284\" itemprop=\"name\">Astrid Meadows</h1>\n",
      "Astrid Meadows\n"
     ]
    }
   ],
   "source": [
    "title_headings = soup.find_all('h1')\n",
    "for h in title_headings:\n",
    "    print(h)\n",
    "    print(h.text)"
   ]
  },
  {
   "cell_type": "markdown",
   "metadata": {},
   "source": [
    "We can get the street address of the property from the page html"
   ]
  },
  {
   "cell_type": "code",
   "execution_count": 7,
   "metadata": {},
   "outputs": [
    {
     "data": {
      "text/plain": [
       "'District 10 - 38 Coronation Road West - Condo\\xa0View on map'"
      ]
     },
     "execution_count": 7,
     "metadata": {},
     "output_type": "execute_result"
    }
   ],
   "source": [
    "address_str = page_headings[1].text\n",
    "address_str"
   ]
  },
  {
   "cell_type": "code",
   "execution_count": 8,
   "metadata": {},
   "outputs": [
    {
     "data": {
      "text/plain": [
       "'38 Coronation Road West'"
      ]
     },
     "execution_count": 8,
     "metadata": {},
     "output_type": "execute_result"
    }
   ],
   "source": [
    "address_parts = address_str.split('-')\n",
    "street_address = address_parts[1].strip()\n",
    "street_address"
   ]
  },
  {
   "cell_type": "markdown",
   "metadata": {},
   "source": [
    "Now that we have the local street, we can use geocode to get the condo's geo coordinates. \n"
   ]
  },
  {
   "cell_type": "code",
   "execution_count": 9,
   "metadata": {},
   "outputs": [
    {
     "data": {
      "text/plain": [
       "'<?xml version=\"1.0\" encoding=\"UTF-8\" ?>\\n<geodata>\\n        <latt>1.31930</latt>\\n        <longt>103.79462</longt>\\n<elevation></elevation>\\n\\n<standard><addresst>CORONATION ROAD WEST</addresst><region>SG</region><postal>269257</postal><stnumber>38</stnumber><prov>SG</prov><city>Singapore</city><countryname>Singapore</countryname><confidence>1.00</confidence></standard>\\n<alt>\\n\\n</alt>\\n</geodata>\\n'"
      ]
     },
     "execution_count": 9,
     "metadata": {},
     "output_type": "execute_result"
    }
   ],
   "source": [
    "geocode_request = \"https://geocode.xyz/%s?geoit=xml&region=SG\" % (street_address)\n",
    "r = requests.get(geocode_request)\n",
    "r.text\n"
   ]
  },
  {
   "cell_type": "code",
   "execution_count": 10,
   "metadata": {
    "collapsed": true
   },
   "outputs": [],
   "source": [
    "soup = BeautifulSoup(r.text, 'html5lib')\n",
    "props = soup.find_all('geodata')\n",
    "latt = props[0].find('latt')\n",
    "longt = props[0].find('longt')\n",
    "longitude = float(longt.text)\n",
    "latitude = float(latt.text)"
   ]
  },
  {
   "cell_type": "code",
   "execution_count": 11,
   "metadata": {},
   "outputs": [
    {
     "data": {
      "text/plain": [
       "103.79462"
      ]
     },
     "execution_count": 11,
     "metadata": {},
     "output_type": "execute_result"
    }
   ],
   "source": [
    "longitude"
   ]
  },
  {
   "cell_type": "code",
   "execution_count": 12,
   "metadata": {},
   "outputs": [
    {
     "data": {
      "text/plain": [
       "1.3193"
      ]
     },
     "execution_count": 12,
     "metadata": {},
     "output_type": "execute_result"
    }
   ],
   "source": [
    "latitude"
   ]
  },
  {
   "cell_type": "markdown",
   "metadata": {},
   "source": [
    "## Putting It All Together\n",
    "\n",
    "Now that we know the small pieces work, we can now productionise the small function into a powerful tool. "
   ]
  },
  {
   "cell_type": "markdown",
   "metadata": {},
   "source": [
    "* get_geocode_from_address\n",
    "  * input: address\n",
    "  * output: latitude, longitude\n",
    "\n",
    "Function to return latitude and longitude given an address"
   ]
  },
  {
   "cell_type": "code",
   "execution_count": 12,
   "metadata": {
    "collapsed": true
   },
   "outputs": [],
   "source": [
    "def get_geocode_from_address(address):\n",
    "    geocode_request = \"https://geocode.xyz/%s?geoit=xml&region=SG\" % (address)\n",
    "    r = requests.get(geocode_request)\n",
    "    r.text\n",
    "    \n",
    "    soup = BeautifulSoup(r.text, 'html5lib')\n",
    "    props = soup.find_all('geodata')\n",
    "    latt = props[0].find('latt')\n",
    "    longt = props[0].find('longt')\n",
    "    longitude = float(longt.text)\n",
    "    latitude = float(latt.text)\n",
    "    return (latitude, longitude)\n"
   ]
  },
  {
   "cell_type": "markdown",
   "metadata": {},
   "source": [
    "* get_street_address_from_condo_page\n",
    "  * input: condo page links\n",
    "  * output: address\n",
    "\n",
    "Function to return a street address given a condo page link"
   ]
  },
  {
   "cell_type": "code",
   "execution_count": 13,
   "metadata": {
    "collapsed": true
   },
   "outputs": [],
   "source": [
    "def get_condo_page_soup_contents_from_condo_page(condo_link):\n",
    "    num_retries = 3\n",
    "    while num_retries > 0:\n",
    "        r = requests.get(condo_link)\n",
    "        if len(r.text) > 1:\n",
    "            soup = BeautifulSoup(r.text, 'html5lib') \n",
    "            return soup    \n",
    "        num_retries = num_retries - 1\n",
    "        time.sleep(5)\n",
    "    return None      \n",
    "    "
   ]
  },
  {
   "cell_type": "code",
   "execution_count": 33,
   "metadata": {
    "collapsed": true
   },
   "outputs": [],
   "source": [
    "def get_street_address_from_condo_page(condo_soup):\n",
    "    title_heading = condo_soup.find_all('h1')\n",
    "    if len(title_heading) > 0:\n",
    "        condo_name = title_heading[0].text    \n",
    "        page_headings = condo_soup.find_all('h5')\n",
    "        address_str = page_headings[1].text\n",
    "        address_parts = address_str.split('-')\n",
    "        street_address = address_parts[1].strip()\n",
    "        return (condo_name, street_address)\n",
    "    return ('', '')\n",
    "\n",
    "condo_link = 'https://www.99.co/singapore/condos-apartments/astrid-meadows'\n",
    "condo_soup = get_condo_page_soup_contents_from_condo_page(condo_link)\n",
    "(condo_name, address) = get_street_address_from_condo_page(condo_soup)\n",
    "assert(condo_name == 'Astrid Meadows')\n",
    "assert(address == '38 Coronation Road West')"
   ]
  },
  {
   "cell_type": "code",
   "execution_count": 45,
   "metadata": {},
   "outputs": [
    {
     "name": "stdout",
     "output_type": "stream",
     "text": [
      "0\n"
     ]
    }
   ],
   "source": [
    "def get_avg_sale_price_from_condo_page(condo_soup):\n",
    "    divs = condo_soup.find_all('div', class_=\"TransactionsList__TransactionsStats__28YGE\")\n",
    "    print(len(divs))\n",
    "        \n",
    "    \n",
    "    '''\n",
    "    <div class=\"TransactionsList__KeyStats_Value__3Pvxw\">S$1,708.0</div>\n",
    "    \n",
    "    <div class=\"TransactionsList__TransactionsStats__28YGE\">\n",
    "    <div class=\"TransactionsList__KeyStatsRent__1iwwN\">\n",
    "    <div class=\"TransactionsList__KeyStats_Header__1qADp\">Avg.price (psf)</div>\n",
    "    <div class=\"TransactionsList__KeyStats_Value__3Pvxw\">S$1,708.0</div>\n",
    "    <div class=\"TransactionsList__KeyStats_Timeframe__1R0Ty\">last 6 months</div></div>\n",
    "    <div class=\"TransactionsList__KeyStatsSale__37DhJ\">\n",
    "    <div class=\"TransactionsList__KeyStats_Header__1qADp\">Avg.price (psf)</div>\n",
    "    <div class=\"TransactionsList__KeyStats_Value__3Pvxw\">S$1,690.0</div>\n",
    "    <div class=\"TransactionsList__KeyStats_Timeframe__1R0Ty\">last 1 year</div></div></div>\n",
    "    '''\n",
    "    \n",
    "get_avg_sale_price_from_condo_page(condo_soup)\n",
    "    "
   ]
  },
  {
   "cell_type": "markdown",
   "metadata": {},
   "source": [
    "--\n",
    "\n",
    "Let's read in the condo page links- get their addresses and recent transction data.\n",
    "\n",
    "Should save condo data to sqlite, but let's keep it simple and just save each transaction one per row. \n",
    "\n",
    "CONDO_ID, NAME, ADDRESS, LONG, LAT, SALES ID, DATE, NUM_BRMS, PRICE, SQFT, PSF\n"
   ]
  },
  {
   "cell_type": "markdown",
   "metadata": {},
   "source": [
    "* get_condo_page_links_from_saved_file\n",
    "  * input: file of condo page links\n",
    "  * output: array of condo page links\n",
    "\n",
    "Function to read the list of condo webpage links and return the list as an array"
   ]
  },
  {
   "cell_type": "code",
   "execution_count": 16,
   "metadata": {
    "collapsed": true
   },
   "outputs": [],
   "source": [
    "def get_condo_page_links_from_saved_file(file_of_condo_links):\n",
    "    condo_links = []\n",
    "    with open(file_of_condo_links, 'r') as infile:\n",
    "        for line in infile:\n",
    "            condo_links.append(line)\n",
    "    return condo_links\n",
    "\n",
    "# test and assert\n",
    "condo_links = get_condo_page_links_from_saved_file('all_links.txt')\n",
    "assert(len(condo_links)>2300)"
   ]
  },
  {
   "cell_type": "markdown",
   "metadata": {},
   "source": [
    "Function to return the unique name key of a condo given its page link url"
   ]
  },
  {
   "cell_type": "code",
   "execution_count": 17,
   "metadata": {
    "collapsed": true
   },
   "outputs": [],
   "source": [
    "def get_condo_keyid_from_weburl(condo_link):\n",
    "    # the condo keyid is the last part of the weburl\n",
    "    idx = condo_link.rfind('/')\n",
    "    condo_key = condo_link[idx+1:]\n",
    "    return condo_key\n",
    "\n",
    "condo_key = get_condo_keyid_from_weburl('https://www.99.co/singapore/condos-apartments/astrid-meadows')\n",
    "assert(condo_key == 'astrid-meadows')"
   ]
  },
  {
   "cell_type": "markdown",
   "metadata": {},
   "source": [
    "Let's try out getting the names and addresses for just five condos"
   ]
  },
  {
   "cell_type": "code",
   "execution_count": 19,
   "metadata": {},
   "outputs": [
    {
     "name": "stdout",
     "output_type": "stream",
     "text": [
      "1.3193,103.79462,astrid-meadows,Astrid Meadows,38 Coronation Road West\n",
      "1.33058,103.86763,ao-jiang-apartments,Ao Jiang Apartments,15 Meyappa Chettiar Road\n",
      "1.35001,103.88329,affluence-court,Affluence Court,8 Ah Soo Garden\n",
      "1.32619,103.85107,ampas-apartment,Ampas Apartment,5 Jalan Ampas\n",
      "1.33987,103.75607,acacia-lodge,Acacia Lodge,530 Bukit Batok Street 23\n"
     ]
    }
   ],
   "source": [
    "details = []\n",
    "condo_links = get_condo_page_links_from_saved_file('all_links.txt')\n",
    "for i in range(0,5):\n",
    "    condo_link = condo_links[i].strip()\n",
    "    condo_key = get_condo_keyid_from_weburl(condo_link)    \n",
    "    condo_soup = get_condo_page_soup_contents_from_condo_page(condo_link)\n",
    "    (condo_name, address) = get_street_address_from_condo_page(condo_soup)\n",
    "    (latitude, longitude) = get_geocode_from_address(address)\n",
    "    report_line = \"%s,%s,%s,%s,%s\" % (latitude, longitude, condo_key, condo_name, address)\n",
    "    print(report_line)\n",
    "    details.append(report_line)\n",
    "    time.sleep(5)\n",
    "    \n",
    "with open(\"condo_report.txt\", 'w') as outfile:\n",
    "    for det in details:\n",
    "        outfile.write(det)\n",
    "        outfile.write('\\n')\n",
    "    "
   ]
  }
 ],
 "metadata": {
  "kernelspec": {
   "display_name": "Python 3",
   "language": "python",
   "name": "python3"
  },
  "language_info": {
   "codemirror_mode": {
    "name": "ipython",
    "version": 3
   },
   "file_extension": ".py",
   "mimetype": "text/x-python",
   "name": "python",
   "nbconvert_exporter": "python",
   "pygments_lexer": "ipython3",
   "version": "3.5.3"
  }
 },
 "nbformat": 4,
 "nbformat_minor": 2
}
