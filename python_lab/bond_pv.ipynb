{
 "cells": [
  {
   "cell_type": "markdown",
   "metadata": {},
   "source": [
    "# PV of a bond"
   ]
  },
  {
   "cell_type": "code",
   "execution_count": 24,
   "metadata": {},
   "outputs": [],
   "source": [
    "def get_discount_factor(number_of_years_in_future, interest_rate):\n",
    "    factor = (1 + interest_rate ) ^ number_of_years_in_future\n",
    "    discount_factor = 1 / factor\n",
    "    return discount_factor  \n",
    "    "
   ]
  },
  {
   "cell_type": "code",
   "execution_count": 25,
   "metadata": {},
   "outputs": [],
   "source": [
    "def get_all_coupons(years_to_maturity, principal, coupon_rate):\n",
    "    coupons = {}\n",
    "    for t in range(0, years_to_maturity, 0.5):\n",
    "        time = int(t)\n",
    "        coupons[time] = principal*coupon_rate\n",
    "    return coupons\n"
   ]
  },
  {
   "cell_type": "code",
   "execution_count": 26,
   "metadata": {},
   "outputs": [],
   "source": [
    "def get_all_coupons_in_current_pv(years_to_maturity, principal, coupon_rate, interest_rate):\n",
    "    coupons_in_current_pv = {}\n",
    "    coupons = get_all_coupons(years_to_maturity, principal, coupon_rate)\n",
    "    for (nyears, coupon) in coupons:\n",
    "        discount_factor = get_discount_factor(nyears, interest_rate)\n",
    "        current_pv = coupon * discount_factor\n",
    "        coupons_in_current_pv[nyears] = current_pv\n",
    "    return coupons_in_current_pv  \n",
    "    "
   ]
  },
  {
   "cell_type": "code",
   "execution_count": 27,
   "metadata": {},
   "outputs": [],
   "source": [
    "def get_bond_pv(years_to_maturity, principal, coupon_rate, market_interest_rate):\n",
    "    '''\n",
    "    PV of a bond can be broken down into two components\n",
    "    1) current value of the future stream of coupon payments every 6 months\n",
    "    2) current value of principal repayment at maturity       \n",
    "    '''\n",
    "    \n",
    "    pv_coupons = get_all_coupons_in_current_pv(years_to_maturity, principal, coupon_rate, market_interest_rate)\n",
    "    pv_principal = principal * get_discount_factor(years_to_maturity, market_interest_rate)\n",
    "    \n",
    "    # total up all the pvs\n",
    "    total_pv = 0\n",
    "    for (nyears, coupon) in pv_coupons:\n",
    "        total_pv = total_pv + coupon\n",
    "    total_pv = total_pv + pv_principal \n",
    "    \n",
    "    return total_pv   \n",
    "    "
   ]
  },
  {
   "cell_type": "code",
   "execution_count": 28,
   "metadata": {},
   "outputs": [
    {
     "ename": "TypeError",
     "evalue": "'float' object cannot be interpreted as an integer",
     "output_type": "error",
     "traceback": [
      "\u001b[0;31m---------------------------------------------------------------------------\u001b[0m",
      "\u001b[0;31mTypeError\u001b[0m                                 Traceback (most recent call last)",
      "\u001b[0;32m<ipython-input-28-d18a5969c231>\u001b[0m in \u001b[0;36m<module>\u001b[0;34m()\u001b[0m\n\u001b[1;32m      4\u001b[0m \u001b[0mmarket_interest_rate\u001b[0m \u001b[0;34m=\u001b[0m \u001b[0;36m0.05\u001b[0m\u001b[0;34m\u001b[0m\u001b[0m\n\u001b[1;32m      5\u001b[0m \u001b[0;34m\u001b[0m\u001b[0m\n\u001b[0;32m----> 6\u001b[0;31m \u001b[0mget_bond_pv\u001b[0m\u001b[0;34m(\u001b[0m\u001b[0myears_to_maturity\u001b[0m\u001b[0;34m,\u001b[0m \u001b[0mprincipal\u001b[0m\u001b[0;34m,\u001b[0m \u001b[0mcoupon\u001b[0m\u001b[0;34m,\u001b[0m \u001b[0mmarket_interest_rate\u001b[0m\u001b[0;34m)\u001b[0m\u001b[0;34m\u001b[0m\u001b[0m\n\u001b[0m",
      "\u001b[0;32m<ipython-input-27-cca771a64179>\u001b[0m in \u001b[0;36mget_bond_pv\u001b[0;34m(years_to_maturity, principal, coupon_rate, market_interest_rate)\u001b[0m\n\u001b[1;32m      6\u001b[0m     '''\n\u001b[1;32m      7\u001b[0m \u001b[0;34m\u001b[0m\u001b[0m\n\u001b[0;32m----> 8\u001b[0;31m     \u001b[0mpv_coupons\u001b[0m \u001b[0;34m=\u001b[0m \u001b[0mget_all_coupons_in_current_pv\u001b[0m\u001b[0;34m(\u001b[0m\u001b[0myears_to_maturity\u001b[0m\u001b[0;34m,\u001b[0m \u001b[0mprincipal\u001b[0m\u001b[0;34m,\u001b[0m \u001b[0mcoupon_rate\u001b[0m\u001b[0;34m,\u001b[0m \u001b[0mmarket_interest_rate\u001b[0m\u001b[0;34m)\u001b[0m\u001b[0;34m\u001b[0m\u001b[0m\n\u001b[0m\u001b[1;32m      9\u001b[0m     \u001b[0mpv_principal\u001b[0m \u001b[0;34m=\u001b[0m \u001b[0mprincipal\u001b[0m \u001b[0;34m*\u001b[0m \u001b[0mget_discount_factor\u001b[0m\u001b[0;34m(\u001b[0m\u001b[0myears_to_maturity\u001b[0m\u001b[0;34m,\u001b[0m \u001b[0mmarket_interest_rate\u001b[0m\u001b[0;34m)\u001b[0m\u001b[0;34m\u001b[0m\u001b[0m\n\u001b[1;32m     10\u001b[0m \u001b[0;34m\u001b[0m\u001b[0m\n",
      "\u001b[0;32m<ipython-input-26-a5536d727f85>\u001b[0m in \u001b[0;36mget_all_coupons_in_current_pv\u001b[0;34m(years_to_maturity, principal, coupon_rate, interest_rate)\u001b[0m\n\u001b[1;32m      1\u001b[0m \u001b[0;32mdef\u001b[0m \u001b[0mget_all_coupons_in_current_pv\u001b[0m\u001b[0;34m(\u001b[0m\u001b[0myears_to_maturity\u001b[0m\u001b[0;34m,\u001b[0m \u001b[0mprincipal\u001b[0m\u001b[0;34m,\u001b[0m \u001b[0mcoupon_rate\u001b[0m\u001b[0;34m,\u001b[0m \u001b[0minterest_rate\u001b[0m\u001b[0;34m)\u001b[0m\u001b[0;34m:\u001b[0m\u001b[0;34m\u001b[0m\u001b[0m\n\u001b[1;32m      2\u001b[0m     \u001b[0mcoupons_in_current_pv\u001b[0m \u001b[0;34m=\u001b[0m \u001b[0;34m{\u001b[0m\u001b[0;34m}\u001b[0m\u001b[0;34m\u001b[0m\u001b[0m\n\u001b[0;32m----> 3\u001b[0;31m     \u001b[0mcoupons\u001b[0m \u001b[0;34m=\u001b[0m \u001b[0mget_all_coupons\u001b[0m\u001b[0;34m(\u001b[0m\u001b[0myears_to_maturity\u001b[0m\u001b[0;34m,\u001b[0m \u001b[0mprincipal\u001b[0m\u001b[0;34m,\u001b[0m \u001b[0mcoupon_rate\u001b[0m\u001b[0;34m)\u001b[0m\u001b[0;34m\u001b[0m\u001b[0m\n\u001b[0m\u001b[1;32m      4\u001b[0m     \u001b[0;32mfor\u001b[0m \u001b[0;34m(\u001b[0m\u001b[0mnyears\u001b[0m\u001b[0;34m,\u001b[0m \u001b[0mcoupon\u001b[0m\u001b[0;34m)\u001b[0m \u001b[0;32min\u001b[0m \u001b[0mcoupons\u001b[0m\u001b[0;34m:\u001b[0m\u001b[0;34m\u001b[0m\u001b[0m\n\u001b[1;32m      5\u001b[0m         \u001b[0mdiscount_factor\u001b[0m \u001b[0;34m=\u001b[0m \u001b[0mget_discount_factor\u001b[0m\u001b[0;34m(\u001b[0m\u001b[0mnyears\u001b[0m\u001b[0;34m,\u001b[0m \u001b[0minterest_rate\u001b[0m\u001b[0;34m)\u001b[0m\u001b[0;34m\u001b[0m\u001b[0m\n",
      "\u001b[0;32m<ipython-input-25-c098f6f95e47>\u001b[0m in \u001b[0;36mget_all_coupons\u001b[0;34m(years_to_maturity, principal, coupon_rate)\u001b[0m\n\u001b[1;32m      1\u001b[0m \u001b[0;32mdef\u001b[0m \u001b[0mget_all_coupons\u001b[0m\u001b[0;34m(\u001b[0m\u001b[0myears_to_maturity\u001b[0m\u001b[0;34m,\u001b[0m \u001b[0mprincipal\u001b[0m\u001b[0;34m,\u001b[0m \u001b[0mcoupon_rate\u001b[0m\u001b[0;34m)\u001b[0m\u001b[0;34m:\u001b[0m\u001b[0;34m\u001b[0m\u001b[0m\n\u001b[1;32m      2\u001b[0m     \u001b[0mcoupons\u001b[0m \u001b[0;34m=\u001b[0m \u001b[0;34m{\u001b[0m\u001b[0;34m}\u001b[0m\u001b[0;34m\u001b[0m\u001b[0m\n\u001b[0;32m----> 3\u001b[0;31m     \u001b[0;32mfor\u001b[0m \u001b[0mt\u001b[0m \u001b[0;32min\u001b[0m \u001b[0mrange\u001b[0m\u001b[0;34m(\u001b[0m\u001b[0;36m0\u001b[0m\u001b[0;34m,\u001b[0m \u001b[0myears_to_maturity\u001b[0m\u001b[0;34m,\u001b[0m \u001b[0;36m0.5\u001b[0m\u001b[0;34m)\u001b[0m\u001b[0;34m:\u001b[0m\u001b[0;34m\u001b[0m\u001b[0m\n\u001b[0m\u001b[1;32m      4\u001b[0m         \u001b[0mtime\u001b[0m \u001b[0;34m=\u001b[0m \u001b[0mint\u001b[0m\u001b[0;34m(\u001b[0m\u001b[0mt\u001b[0m\u001b[0;34m)\u001b[0m\u001b[0;34m\u001b[0m\u001b[0m\n\u001b[1;32m      5\u001b[0m         \u001b[0mcoupons\u001b[0m\u001b[0;34m[\u001b[0m\u001b[0mtime\u001b[0m\u001b[0;34m]\u001b[0m \u001b[0;34m=\u001b[0m \u001b[0mprincipal\u001b[0m\u001b[0;34m*\u001b[0m\u001b[0mcoupon_rate\u001b[0m\u001b[0;34m\u001b[0m\u001b[0m\n",
      "\u001b[0;31mTypeError\u001b[0m: 'float' object cannot be interpreted as an integer"
     ]
    }
   ],
   "source": [
    "years_to_maturity = 10\n",
    "principal = 1000000\n",
    "coupon = 0.05\n",
    "market_interest_rate = 0.05\n",
    "\n",
    "get_bond_pv(years_to_maturity, principal, coupon, market_interest_rate)\n"
   ]
  },
  {
   "cell_type": "code",
   "execution_count": null,
   "metadata": {},
   "outputs": [],
   "source": []
  }
 ],
 "metadata": {
  "kernelspec": {
   "display_name": "Python 3",
   "language": "python",
   "name": "python3"
  },
  "language_info": {
   "codemirror_mode": {
    "name": "ipython",
    "version": 3
   },
   "file_extension": ".py",
   "mimetype": "text/x-python",
   "name": "python",
   "nbconvert_exporter": "python",
   "pygments_lexer": "ipython3",
   "version": "3.7.0"
  }
 },
 "nbformat": 4,
 "nbformat_minor": 2
}
