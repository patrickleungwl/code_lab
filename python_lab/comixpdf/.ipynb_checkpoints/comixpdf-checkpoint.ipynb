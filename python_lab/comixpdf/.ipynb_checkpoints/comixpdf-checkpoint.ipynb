{
 "cells": [
  {
   "cell_type": "markdown",
   "metadata": {},
   "source": [
    "# ComixPdf"
   ]
  },
  {
   "cell_type": "markdown",
   "metadata": {},
   "source": [
    "Let's get comix from https://readcomiconline.to. \n",
    "Download the jpgs and convert to pdf. \n"
   ]
  },
  {
   "cell_type": "code",
   "execution_count": 17,
   "metadata": {},
   "outputs": [],
   "source": [
    "import requests\n",
    "import string\n",
    "import time\n",
    "from datetime import datetime\n",
    "from bs4 import BeautifulSoup"
   ]
  },
  {
   "cell_type": "markdown",
   "metadata": {},
   "source": [
    "Given the base URL of a comic, let's get all names of all issues and links"
   ]
  },
  {
   "cell_type": "code",
   "execution_count": 18,
   "metadata": {},
   "outputs": [],
   "source": [
    "# base_url is the url of the comic title\n",
    "# example- https://readcomiconline.to/Comic/The-Amazing-Spider-Man-2018\n",
    "#\n",
    "# use BeautifulSoup to parse the html\n",
    "#   look for a table section of class listing\n",
    "def get_all_issue_details(base_url):\n",
    "    r = requests.get(base_url)    \n",
    "    print(len(r.text))\n",
    "    \n",
    "    with open('/tmp/base.html', 'w') as cfile:\n",
    "        cfile.write(r.text)\n",
    "    \n",
    "   "
   ]
  },
  {
   "cell_type": "code",
   "execution_count": 19,
   "metadata": {},
   "outputs": [],
   "source": [
    "def get_page_links(base_html):    \n",
    "    content = \"\"\n",
    "    with open(base_html) as cfile:\n",
    "        content = cfile.read()\n",
    "              \n",
    "     # get the list of images\n",
    "    idx = 0\n",
    "    i=0\n",
    "    while idx<1000000 and i<10:\n",
    "        ++i\n",
    "        print('%s finding %s' % (i,idx))\n",
    "        idx = content.find('lstImages.push(',idx)\n",
    "        if idx == -1:\n",
    "            break\n",
    "        endidx = 0\n",
    "        endidx = content.find('\")', idx)\n",
    "        if endidx == -1:\n",
    "            break\n",
    "        pagejpg = content[idx+1:endidx-1]\n",
    "        print(pagejpg)\n",
    "        print(idx)\n",
    "        ++idx    "
   ]
  },
  {
   "cell_type": "code",
   "execution_count": 20,
   "metadata": {},
   "outputs": [
    {
     "name": "stdout",
     "output_type": "stream",
     "text": [
      "0 finding 0\n",
      "stImages.push(\"https://2.bp.blogspot.com/-R6AAnHATyws/W0aVd8f3pXI/AAAAAAAAAeA/3BpdsxGr5WME725kGPNFvx9uDz6LgDVuQCHMYCw/s1600/RCO001.jp\n",
      "113304\n"
     ]
    }
   ],
   "source": [
    "url = 'https://readcomiconline.to/Comic/The-Amazing-Spider-Man-2018/Annual-1?id=139875'\n",
    "html = '/tmp/base.html'\n",
    "get_page_links(html)\n",
    "                    "
   ]
  }
 ],
 "metadata": {
  "kernelspec": {
   "display_name": "Python 3",
   "language": "python",
   "name": "python3"
  },
  "language_info": {
   "codemirror_mode": {
    "name": "ipython",
    "version": 3
   },
   "file_extension": ".py",
   "mimetype": "text/x-python",
   "name": "python",
   "nbconvert_exporter": "python",
   "pygments_lexer": "ipython3",
   "version": "3.7.0"
  }
 },
 "nbformat": 4,
 "nbformat_minor": 2
}
